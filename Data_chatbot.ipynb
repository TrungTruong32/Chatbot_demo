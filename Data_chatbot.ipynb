{
 "cells": [
  {
   "cell_type": "markdown",
   "metadata": {
    "id": "epKQx-EBn9hM"
   },
   "source": [
    "#Prepare"
   ]
  },
  {
   "cell_type": "code",
   "execution_count": 1,
   "metadata": {
    "colab": {
     "base_uri": "https://localhost:8080/"
    },
    "id": "tC0pPKlNSDVS",
    "outputId": "ae789921-2014-4269-c663-0ddddeebca2b"
   },
   "outputs": [
    {
     "name": "stdout",
     "output_type": "stream",
     "text": [
      "Mounted at /content/drive\n"
     ]
    }
   ],
   "source": [
    "from google.colab import drive\n",
    "drive.mount('/content/drive')"
   ]
  },
  {
   "cell_type": "code",
   "execution_count": null,
   "metadata": {
    "colab": {
     "base_uri": "https://localhost:8080/"
    },
    "collapsed": true,
    "id": "kpdatJ7ySLlF",
    "outputId": "473dc2a0-5e6b-4dfc-e212-244fd71da630"
   },
   "outputs": [
    {
     "name": "stdout",
     "output_type": "stream",
     "text": [
      "Collecting ctransformers (from -r /content/drive/MyDrive/Chatbot_Youth_Union/setup.txt (line 1))\n",
      "  Downloading ctransformers-0.2.27-py3-none-any.whl.metadata (17 kB)\n",
      "Requirement already satisfied: transformers in /usr/local/lib/python3.10/dist-packages (from -r /content/drive/MyDrive/Chatbot_Youth_Union/setup.txt (line 2)) (4.47.1)\n",
      "Requirement already satisfied: langchain in /usr/local/lib/python3.10/dist-packages (from -r /content/drive/MyDrive/Chatbot_Youth_Union/setup.txt (line 3)) (0.3.14)\n",
      "Collecting langchain-community (from -r /content/drive/MyDrive/Chatbot_Youth_Union/setup.txt (line 4))\n",
      "  Downloading langchain_community-0.3.14-py3-none-any.whl.metadata (2.9 kB)\n",
      "Requirement already satisfied: torch in /usr/local/lib/python3.10/dist-packages (from -r /content/drive/MyDrive/Chatbot_Youth_Union/setup.txt (line 5)) (2.5.1+cu121)\n",
      "Collecting pypdf (from -r /content/drive/MyDrive/Chatbot_Youth_Union/setup.txt (line 6))\n",
      "  Downloading pypdf-5.1.0-py3-none-any.whl.metadata (7.2 kB)\n",
      "Requirement already satisfied: sentence-transformers in /usr/local/lib/python3.10/dist-packages (from -r /content/drive/MyDrive/Chatbot_Youth_Union/setup.txt (line 7)) (3.3.1)\n",
      "Collecting gpt4all (from -r /content/drive/MyDrive/Chatbot_Youth_Union/setup.txt (line 8))\n",
      "  Downloading gpt4all-2.8.2-py3-none-manylinux1_x86_64.whl.metadata (4.8 kB)\n",
      "Collecting faiss-cpu (from -r /content/drive/MyDrive/Chatbot_Youth_Union/setup.txt (line 9))\n",
      "  Downloading faiss_cpu-1.9.0.post1-cp310-cp310-manylinux_2_17_x86_64.manylinux2014_x86_64.whl.metadata (4.4 kB)\n",
      "Requirement already satisfied: openai in /usr/local/lib/python3.10/dist-packages (from -r /content/drive/MyDrive/Chatbot_Youth_Union/setup.txt (line 10)) (1.59.3)\n",
      "Requirement already satisfied: huggingface_hub in /usr/local/lib/python3.10/dist-packages (from -r /content/drive/MyDrive/Chatbot_Youth_Union/setup.txt (line 11)) (0.27.1)\n",
      "Collecting qdrant_client (from -r /content/drive/MyDrive/Chatbot_Youth_Union/setup.txt (line 12))\n",
      "  Downloading qdrant_client-1.12.2-py3-none-any.whl.metadata (10 kB)\n",
      "Collecting docx (from -r /content/drive/MyDrive/Chatbot_Youth_Union/setup.txt (line 13))\n",
      "  Downloading docx-0.2.4.tar.gz (54 kB)\n",
      "\u001b[2K     \u001b[90m━━━━━━━━━━━━━━━━━━━━━━━━━━━━━━━━━━━━━━━━\u001b[0m \u001b[32m54.9/54.9 kB\u001b[0m \u001b[31m4.3 MB/s\u001b[0m eta \u001b[36m0:00:00\u001b[0m\n",
      "\u001b[?25h  Preparing metadata (setup.py) ... \u001b[?25l\u001b[?25hdone\n",
      "Collecting python-docx (from -r /content/drive/MyDrive/Chatbot_Youth_Union/setup.txt (line 14))\n",
      "  Downloading python_docx-1.1.2-py3-none-any.whl.metadata (2.0 kB)\n",
      "Requirement already satisfied: py-cpuinfo<10.0.0,>=9.0.0 in /usr/local/lib/python3.10/dist-packages (from ctransformers->-r /content/drive/MyDrive/Chatbot_Youth_Union/setup.txt (line 1)) (9.0.0)\n",
      "Requirement already satisfied: filelock in /usr/local/lib/python3.10/dist-packages (from transformers->-r /content/drive/MyDrive/Chatbot_Youth_Union/setup.txt (line 2)) (3.16.1)\n",
      "Requirement already satisfied: numpy>=1.17 in /usr/local/lib/python3.10/dist-packages (from transformers->-r /content/drive/MyDrive/Chatbot_Youth_Union/setup.txt (line 2)) (1.26.4)\n",
      "Requirement already satisfied: packaging>=20.0 in /usr/local/lib/python3.10/dist-packages (from transformers->-r /content/drive/MyDrive/Chatbot_Youth_Union/setup.txt (line 2)) (24.2)\n",
      "Requirement already satisfied: pyyaml>=5.1 in /usr/local/lib/python3.10/dist-packages (from transformers->-r /content/drive/MyDrive/Chatbot_Youth_Union/setup.txt (line 2)) (6.0.2)\n",
      "Requirement already satisfied: regex!=2019.12.17 in /usr/local/lib/python3.10/dist-packages (from transformers->-r /content/drive/MyDrive/Chatbot_Youth_Union/setup.txt (line 2)) (2024.11.6)\n",
      "Requirement already satisfied: requests in /usr/local/lib/python3.10/dist-packages (from transformers->-r /content/drive/MyDrive/Chatbot_Youth_Union/setup.txt (line 2)) (2.32.3)\n",
      "Requirement already satisfied: tokenizers<0.22,>=0.21 in /usr/local/lib/python3.10/dist-packages (from transformers->-r /content/drive/MyDrive/Chatbot_Youth_Union/setup.txt (line 2)) (0.21.0)\n",
      "Requirement already satisfied: safetensors>=0.4.1 in /usr/local/lib/python3.10/dist-packages (from transformers->-r /content/drive/MyDrive/Chatbot_Youth_Union/setup.txt (line 2)) (0.5.0)\n",
      "Requirement already satisfied: tqdm>=4.27 in /usr/local/lib/python3.10/dist-packages (from transformers->-r /content/drive/MyDrive/Chatbot_Youth_Union/setup.txt (line 2)) (4.67.1)\n",
      "Requirement already satisfied: SQLAlchemy<3,>=1.4 in /usr/local/lib/python3.10/dist-packages (from langchain->-r /content/drive/MyDrive/Chatbot_Youth_Union/setup.txt (line 3)) (2.0.36)\n",
      "Requirement already satisfied: aiohttp<4.0.0,>=3.8.3 in /usr/local/lib/python3.10/dist-packages (from langchain->-r /content/drive/MyDrive/Chatbot_Youth_Union/setup.txt (line 3)) (3.11.11)\n",
      "Requirement already satisfied: async-timeout<5.0.0,>=4.0.0 in /usr/local/lib/python3.10/dist-packages (from langchain->-r /content/drive/MyDrive/Chatbot_Youth_Union/setup.txt (line 3)) (4.0.3)\n",
      "Requirement already satisfied: langchain-core<0.4.0,>=0.3.29 in /usr/local/lib/python3.10/dist-packages (from langchain->-r /content/drive/MyDrive/Chatbot_Youth_Union/setup.txt (line 3)) (0.3.29)\n",
      "Requirement already satisfied: langchain-text-splitters<0.4.0,>=0.3.3 in /usr/local/lib/python3.10/dist-packages (from langchain->-r /content/drive/MyDrive/Chatbot_Youth_Union/setup.txt (line 3)) (0.3.4)\n",
      "Requirement already satisfied: langsmith<0.3,>=0.1.17 in /usr/local/lib/python3.10/dist-packages (from langchain->-r /content/drive/MyDrive/Chatbot_Youth_Union/setup.txt (line 3)) (0.2.10)\n",
      "Requirement already satisfied: pydantic<3.0.0,>=2.7.4 in /usr/local/lib/python3.10/dist-packages (from langchain->-r /content/drive/MyDrive/Chatbot_Youth_Union/setup.txt (line 3)) (2.10.4)\n",
      "Requirement already satisfied: tenacity!=8.4.0,<10,>=8.1.0 in /usr/local/lib/python3.10/dist-packages (from langchain->-r /content/drive/MyDrive/Chatbot_Youth_Union/setup.txt (line 3)) (9.0.0)\n",
      "Collecting dataclasses-json<0.7,>=0.5.7 (from langchain-community->-r /content/drive/MyDrive/Chatbot_Youth_Union/setup.txt (line 4))\n",
      "  Downloading dataclasses_json-0.6.7-py3-none-any.whl.metadata (25 kB)\n",
      "Collecting httpx-sse<0.5.0,>=0.4.0 (from langchain-community->-r /content/drive/MyDrive/Chatbot_Youth_Union/setup.txt (line 4))\n",
      "  Downloading httpx_sse-0.4.0-py3-none-any.whl.metadata (9.0 kB)\n",
      "Collecting pydantic-settings<3.0.0,>=2.4.0 (from langchain-community->-r /content/drive/MyDrive/Chatbot_Youth_Union/setup.txt (line 4))\n",
      "  Downloading pydantic_settings-2.7.1-py3-none-any.whl.metadata (3.5 kB)\n",
      "Requirement already satisfied: typing-extensions>=4.8.0 in /usr/local/lib/python3.10/dist-packages (from torch->-r /content/drive/MyDrive/Chatbot_Youth_Union/setup.txt (line 5)) (4.12.2)\n",
      "Requirement already satisfied: networkx in /usr/local/lib/python3.10/dist-packages (from torch->-r /content/drive/MyDrive/Chatbot_Youth_Union/setup.txt (line 5)) (3.4.2)\n",
      "Requirement already satisfied: jinja2 in /usr/local/lib/python3.10/dist-packages (from torch->-r /content/drive/MyDrive/Chatbot_Youth_Union/setup.txt (line 5)) (3.1.5)\n",
      "Requirement already satisfied: fsspec in /usr/local/lib/python3.10/dist-packages (from torch->-r /content/drive/MyDrive/Chatbot_Youth_Union/setup.txt (line 5)) (2024.10.0)\n",
      "Requirement already satisfied: sympy==1.13.1 in /usr/local/lib/python3.10/dist-packages (from torch->-r /content/drive/MyDrive/Chatbot_Youth_Union/setup.txt (line 5)) (1.13.1)\n",
      "Requirement already satisfied: mpmath<1.4,>=1.1.0 in /usr/local/lib/python3.10/dist-packages (from sympy==1.13.1->torch->-r /content/drive/MyDrive/Chatbot_Youth_Union/setup.txt (line 5)) (1.3.0)\n",
      "Requirement already satisfied: scikit-learn in /usr/local/lib/python3.10/dist-packages (from sentence-transformers->-r /content/drive/MyDrive/Chatbot_Youth_Union/setup.txt (line 7)) (1.6.0)\n",
      "Requirement already satisfied: scipy in /usr/local/lib/python3.10/dist-packages (from sentence-transformers->-r /content/drive/MyDrive/Chatbot_Youth_Union/setup.txt (line 7)) (1.13.1)\n",
      "Requirement already satisfied: Pillow in /usr/local/lib/python3.10/dist-packages (from sentence-transformers->-r /content/drive/MyDrive/Chatbot_Youth_Union/setup.txt (line 7)) (11.1.0)\n",
      "Requirement already satisfied: anyio<5,>=3.5.0 in /usr/local/lib/python3.10/dist-packages (from openai->-r /content/drive/MyDrive/Chatbot_Youth_Union/setup.txt (line 10)) (3.7.1)\n",
      "Requirement already satisfied: distro<2,>=1.7.0 in /usr/local/lib/python3.10/dist-packages (from openai->-r /content/drive/MyDrive/Chatbot_Youth_Union/setup.txt (line 10)) (1.9.0)\n",
      "Requirement already satisfied: httpx<1,>=0.23.0 in /usr/local/lib/python3.10/dist-packages (from openai->-r /content/drive/MyDrive/Chatbot_Youth_Union/setup.txt (line 10)) (0.28.1)\n",
      "Requirement already satisfied: jiter<1,>=0.4.0 in /usr/local/lib/python3.10/dist-packages (from openai->-r /content/drive/MyDrive/Chatbot_Youth_Union/setup.txt (line 10)) (0.8.2)\n",
      "Requirement already satisfied: sniffio in /usr/local/lib/python3.10/dist-packages (from openai->-r /content/drive/MyDrive/Chatbot_Youth_Union/setup.txt (line 10)) (1.3.1)\n",
      "Requirement already satisfied: grpcio>=1.41.0 in /usr/local/lib/python3.10/dist-packages (from qdrant_client->-r /content/drive/MyDrive/Chatbot_Youth_Union/setup.txt (line 12)) (1.69.0)\n",
      "Collecting grpcio-tools>=1.41.0 (from qdrant_client->-r /content/drive/MyDrive/Chatbot_Youth_Union/setup.txt (line 12))\n",
      "  Downloading grpcio_tools-1.69.0-cp310-cp310-manylinux_2_17_x86_64.manylinux2014_x86_64.whl.metadata (5.3 kB)\n",
      "Collecting portalocker<3.0.0,>=2.7.0 (from qdrant_client->-r /content/drive/MyDrive/Chatbot_Youth_Union/setup.txt (line 12))\n",
      "  Downloading portalocker-2.10.1-py3-none-any.whl.metadata (8.5 kB)\n",
      "Requirement already satisfied: urllib3<3,>=1.26.14 in /usr/local/lib/python3.10/dist-packages (from qdrant_client->-r /content/drive/MyDrive/Chatbot_Youth_Union/setup.txt (line 12)) (2.3.0)\n",
      "Requirement already satisfied: lxml in /usr/local/lib/python3.10/dist-packages (from docx->-r /content/drive/MyDrive/Chatbot_Youth_Union/setup.txt (line 13)) (5.3.0)\n",
      "Requirement already satisfied: aiohappyeyeballs>=2.3.0 in /usr/local/lib/python3.10/dist-packages (from aiohttp<4.0.0,>=3.8.3->langchain->-r /content/drive/MyDrive/Chatbot_Youth_Union/setup.txt (line 3)) (2.4.4)\n",
      "Requirement already satisfied: aiosignal>=1.1.2 in /usr/local/lib/python3.10/dist-packages (from aiohttp<4.0.0,>=3.8.3->langchain->-r /content/drive/MyDrive/Chatbot_Youth_Union/setup.txt (line 3)) (1.3.2)\n",
      "Requirement already satisfied: attrs>=17.3.0 in /usr/local/lib/python3.10/dist-packages (from aiohttp<4.0.0,>=3.8.3->langchain->-r /content/drive/MyDrive/Chatbot_Youth_Union/setup.txt (line 3)) (24.3.0)\n",
      "Requirement already satisfied: frozenlist>=1.1.1 in /usr/local/lib/python3.10/dist-packages (from aiohttp<4.0.0,>=3.8.3->langchain->-r /content/drive/MyDrive/Chatbot_Youth_Union/setup.txt (line 3)) (1.5.0)\n",
      "Requirement already satisfied: multidict<7.0,>=4.5 in /usr/local/lib/python3.10/dist-packages (from aiohttp<4.0.0,>=3.8.3->langchain->-r /content/drive/MyDrive/Chatbot_Youth_Union/setup.txt (line 3)) (6.1.0)\n",
      "Requirement already satisfied: propcache>=0.2.0 in /usr/local/lib/python3.10/dist-packages (from aiohttp<4.0.0,>=3.8.3->langchain->-r /content/drive/MyDrive/Chatbot_Youth_Union/setup.txt (line 3)) (0.2.1)\n",
      "Requirement already satisfied: yarl<2.0,>=1.17.0 in /usr/local/lib/python3.10/dist-packages (from aiohttp<4.0.0,>=3.8.3->langchain->-r /content/drive/MyDrive/Chatbot_Youth_Union/setup.txt (line 3)) (1.18.3)\n",
      "Requirement already satisfied: idna>=2.8 in /usr/local/lib/python3.10/dist-packages (from anyio<5,>=3.5.0->openai->-r /content/drive/MyDrive/Chatbot_Youth_Union/setup.txt (line 10)) (3.10)\n",
      "Requirement already satisfied: exceptiongroup in /usr/local/lib/python3.10/dist-packages (from anyio<5,>=3.5.0->openai->-r /content/drive/MyDrive/Chatbot_Youth_Union/setup.txt (line 10)) (1.2.2)\n",
      "Collecting marshmallow<4.0.0,>=3.18.0 (from dataclasses-json<0.7,>=0.5.7->langchain-community->-r /content/drive/MyDrive/Chatbot_Youth_Union/setup.txt (line 4))\n",
      "  Downloading marshmallow-3.25.0-py3-none-any.whl.metadata (7.1 kB)\n",
      "Collecting typing-inspect<1,>=0.4.0 (from dataclasses-json<0.7,>=0.5.7->langchain-community->-r /content/drive/MyDrive/Chatbot_Youth_Union/setup.txt (line 4))\n",
      "  Downloading typing_inspect-0.9.0-py3-none-any.whl.metadata (1.5 kB)\n",
      "Collecting protobuf<6.0dev,>=5.26.1 (from grpcio-tools>=1.41.0->qdrant_client->-r /content/drive/MyDrive/Chatbot_Youth_Union/setup.txt (line 12))\n",
      "  Downloading protobuf-5.29.3-cp38-abi3-manylinux2014_x86_64.whl.metadata (592 bytes)\n",
      "Requirement already satisfied: setuptools in /usr/local/lib/python3.10/dist-packages (from grpcio-tools>=1.41.0->qdrant_client->-r /content/drive/MyDrive/Chatbot_Youth_Union/setup.txt (line 12)) (75.1.0)\n",
      "Requirement already satisfied: certifi in /usr/local/lib/python3.10/dist-packages (from httpx<1,>=0.23.0->openai->-r /content/drive/MyDrive/Chatbot_Youth_Union/setup.txt (line 10)) (2024.12.14)\n",
      "Requirement already satisfied: httpcore==1.* in /usr/local/lib/python3.10/dist-packages (from httpx<1,>=0.23.0->openai->-r /content/drive/MyDrive/Chatbot_Youth_Union/setup.txt (line 10)) (1.0.7)\n",
      "Requirement already satisfied: h11<0.15,>=0.13 in /usr/local/lib/python3.10/dist-packages (from httpcore==1.*->httpx<1,>=0.23.0->openai->-r /content/drive/MyDrive/Chatbot_Youth_Union/setup.txt (line 10)) (0.14.0)\n",
      "Collecting h2<5,>=3 (from httpx[http2]>=0.20.0->qdrant_client->-r /content/drive/MyDrive/Chatbot_Youth_Union/setup.txt (line 12))\n",
      "  Downloading h2-4.1.0-py3-none-any.whl.metadata (3.6 kB)\n",
      "Requirement already satisfied: jsonpatch<2.0,>=1.33 in /usr/local/lib/python3.10/dist-packages (from langchain-core<0.4.0,>=0.3.29->langchain->-r /content/drive/MyDrive/Chatbot_Youth_Union/setup.txt (line 3)) (1.33)\n",
      "Requirement already satisfied: orjson<4.0.0,>=3.9.14 in /usr/local/lib/python3.10/dist-packages (from langsmith<0.3,>=0.1.17->langchain->-r /content/drive/MyDrive/Chatbot_Youth_Union/setup.txt (line 3)) (3.10.13)\n",
      "Requirement already satisfied: requests-toolbelt<2.0.0,>=1.0.0 in /usr/local/lib/python3.10/dist-packages (from langsmith<0.3,>=0.1.17->langchain->-r /content/drive/MyDrive/Chatbot_Youth_Union/setup.txt (line 3)) (1.0.0)\n",
      "Requirement already satisfied: annotated-types>=0.6.0 in /usr/local/lib/python3.10/dist-packages (from pydantic<3.0.0,>=2.7.4->langchain->-r /content/drive/MyDrive/Chatbot_Youth_Union/setup.txt (line 3)) (0.7.0)\n",
      "Requirement already satisfied: pydantic-core==2.27.2 in /usr/local/lib/python3.10/dist-packages (from pydantic<3.0.0,>=2.7.4->langchain->-r /content/drive/MyDrive/Chatbot_Youth_Union/setup.txt (line 3)) (2.27.2)\n",
      "Collecting python-dotenv>=0.21.0 (from pydantic-settings<3.0.0,>=2.4.0->langchain-community->-r /content/drive/MyDrive/Chatbot_Youth_Union/setup.txt (line 4))\n",
      "  Downloading python_dotenv-1.0.1-py3-none-any.whl.metadata (23 kB)\n",
      "Requirement already satisfied: charset-normalizer<4,>=2 in /usr/local/lib/python3.10/dist-packages (from requests->transformers->-r /content/drive/MyDrive/Chatbot_Youth_Union/setup.txt (line 2)) (3.4.1)\n",
      "Requirement already satisfied: greenlet!=0.4.17 in /usr/local/lib/python3.10/dist-packages (from SQLAlchemy<3,>=1.4->langchain->-r /content/drive/MyDrive/Chatbot_Youth_Union/setup.txt (line 3)) (3.1.1)\n",
      "Requirement already satisfied: MarkupSafe>=2.0 in /usr/local/lib/python3.10/dist-packages (from jinja2->torch->-r /content/drive/MyDrive/Chatbot_Youth_Union/setup.txt (line 5)) (3.0.2)\n",
      "Requirement already satisfied: joblib>=1.2.0 in /usr/local/lib/python3.10/dist-packages (from scikit-learn->sentence-transformers->-r /content/drive/MyDrive/Chatbot_Youth_Union/setup.txt (line 7)) (1.4.2)\n",
      "Requirement already satisfied: threadpoolctl>=3.1.0 in /usr/local/lib/python3.10/dist-packages (from scikit-learn->sentence-transformers->-r /content/drive/MyDrive/Chatbot_Youth_Union/setup.txt (line 7)) (3.5.0)\n",
      "Collecting hyperframe<7,>=6.0 (from h2<5,>=3->httpx[http2]>=0.20.0->qdrant_client->-r /content/drive/MyDrive/Chatbot_Youth_Union/setup.txt (line 12))\n",
      "  Downloading hyperframe-6.0.1-py3-none-any.whl.metadata (2.7 kB)\n",
      "Collecting hpack<5,>=4.0 (from h2<5,>=3->httpx[http2]>=0.20.0->qdrant_client->-r /content/drive/MyDrive/Chatbot_Youth_Union/setup.txt (line 12))\n",
      "  Downloading hpack-4.0.0-py3-none-any.whl.metadata (2.5 kB)\n",
      "Requirement already satisfied: jsonpointer>=1.9 in /usr/local/lib/python3.10/dist-packages (from jsonpatch<2.0,>=1.33->langchain-core<0.4.0,>=0.3.29->langchain->-r /content/drive/MyDrive/Chatbot_Youth_Union/setup.txt (line 3)) (3.0.0)\n",
      "Collecting mypy-extensions>=0.3.0 (from typing-inspect<1,>=0.4.0->dataclasses-json<0.7,>=0.5.7->langchain-community->-r /content/drive/MyDrive/Chatbot_Youth_Union/setup.txt (line 4))\n",
      "  Downloading mypy_extensions-1.0.0-py3-none-any.whl.metadata (1.1 kB)\n",
      "Downloading ctransformers-0.2.27-py3-none-any.whl (9.9 MB)\n",
      "\u001b[2K   \u001b[90m━━━━━━━━━━━━━━━━━━━━━━━━━━━━━━━━━━━━━━━━\u001b[0m \u001b[32m9.9/9.9 MB\u001b[0m \u001b[31m90.2 MB/s\u001b[0m eta \u001b[36m0:00:00\u001b[0m\n",
      "\u001b[?25hDownloading langchain_community-0.3.14-py3-none-any.whl (2.5 MB)\n",
      "\u001b[2K   \u001b[90m━━━━━━━━━━━━━━━━━━━━━━━━━━━━━━━━━━━━━━━━\u001b[0m \u001b[32m2.5/2.5 MB\u001b[0m \u001b[31m68.2 MB/s\u001b[0m eta \u001b[36m0:00:00\u001b[0m\n",
      "\u001b[?25hDownloading pypdf-5.1.0-py3-none-any.whl (297 kB)\n",
      "\u001b[2K   \u001b[90m━━━━━━━━━━━━━━━━━━━━━━━━━━━━━━━━━━━━━━━━\u001b[0m \u001b[32m298.0/298.0 kB\u001b[0m \u001b[31m20.6 MB/s\u001b[0m eta \u001b[36m0:00:00\u001b[0m\n",
      "\u001b[?25hDownloading gpt4all-2.8.2-py3-none-manylinux1_x86_64.whl (121.6 MB)\n",
      "\u001b[2K   \u001b[90m━━━━━━━━━━━━━━━━━━━━━━━━━━━━━━━━━━━━━━━━\u001b[0m \u001b[32m121.6/121.6 MB\u001b[0m \u001b[31m7.5 MB/s\u001b[0m eta \u001b[36m0:00:00\u001b[0m\n",
      "\u001b[?25hDownloading faiss_cpu-1.9.0.post1-cp310-cp310-manylinux_2_17_x86_64.manylinux2014_x86_64.whl (27.5 MB)\n",
      "\u001b[2K   \u001b[90m━━━━━━━━━━━━━━━━━━━━━━━━━━━━━━━━━━━━━━━━\u001b[0m \u001b[32m27.5/27.5 MB\u001b[0m \u001b[31m65.9 MB/s\u001b[0m eta \u001b[36m0:00:00\u001b[0m\n",
      "\u001b[?25hDownloading qdrant_client-1.12.2-py3-none-any.whl (267 kB)\n",
      "\u001b[2K   \u001b[90m━━━━━━━━━━━━━━━━━━━━━━━━━━━━━━━━━━━━━━━━\u001b[0m \u001b[32m267.2/267.2 kB\u001b[0m \u001b[31m19.6 MB/s\u001b[0m eta \u001b[36m0:00:00\u001b[0m\n",
      "\u001b[?25hDownloading python_docx-1.1.2-py3-none-any.whl (244 kB)\n",
      "\u001b[2K   \u001b[90m━━━━━━━━━━━━━━━━━━━━━━━━━━━━━━━━━━━━━━━━\u001b[0m \u001b[32m244.3/244.3 kB\u001b[0m \u001b[31m19.4 MB/s\u001b[0m eta \u001b[36m0:00:00\u001b[0m\n",
      "\u001b[?25hDownloading dataclasses_json-0.6.7-py3-none-any.whl (28 kB)\n",
      "Downloading grpcio_tools-1.69.0-cp310-cp310-manylinux_2_17_x86_64.manylinux2014_x86_64.whl (2.5 MB)\n",
      "\u001b[2K   \u001b[90m━━━━━━━━━━━━━━━━━━━━━━━━━━━━━━━━━━━━━━━━\u001b[0m \u001b[32m2.5/2.5 MB\u001b[0m \u001b[31m67.6 MB/s\u001b[0m eta \u001b[36m0:00:00\u001b[0m\n",
      "\u001b[?25hDownloading httpx_sse-0.4.0-py3-none-any.whl (7.8 kB)\n",
      "Downloading portalocker-2.10.1-py3-none-any.whl (18 kB)\n",
      "Downloading pydantic_settings-2.7.1-py3-none-any.whl (29 kB)\n",
      "Downloading h2-4.1.0-py3-none-any.whl (57 kB)\n",
      "\u001b[2K   \u001b[90m━━━━━━━━━━━━━━━━━━━━━━━━━━━━━━━━━━━━━━━━\u001b[0m \u001b[32m57.5/57.5 kB\u001b[0m \u001b[31m4.4 MB/s\u001b[0m eta \u001b[36m0:00:00\u001b[0m\n",
      "\u001b[?25hDownloading marshmallow-3.25.0-py3-none-any.whl (49 kB)\n",
      "\u001b[2K   \u001b[90m━━━━━━━━━━━━━━━━━━━━━━━━━━━━━━━━━━━━━━━━\u001b[0m \u001b[32m49.5/49.5 kB\u001b[0m \u001b[31m3.8 MB/s\u001b[0m eta \u001b[36m0:00:00\u001b[0m\n",
      "\u001b[?25hDownloading protobuf-5.29.3-cp38-abi3-manylinux2014_x86_64.whl (319 kB)\n",
      "\u001b[2K   \u001b[90m━━━━━━━━━━━━━━━━━━━━━━━━━━━━━━━━━━━━━━━━\u001b[0m \u001b[32m319.7/319.7 kB\u001b[0m \u001b[31m23.4 MB/s\u001b[0m eta \u001b[36m0:00:00\u001b[0m\n",
      "\u001b[?25hDownloading python_dotenv-1.0.1-py3-none-any.whl (19 kB)\n",
      "Downloading typing_inspect-0.9.0-py3-none-any.whl (8.8 kB)\n",
      "Downloading hpack-4.0.0-py3-none-any.whl (32 kB)\n",
      "Downloading hyperframe-6.0.1-py3-none-any.whl (12 kB)\n",
      "Downloading mypy_extensions-1.0.0-py3-none-any.whl (4.7 kB)\n",
      "Building wheels for collected packages: docx\n",
      "  Building wheel for docx (setup.py) ... \u001b[?25l\u001b[?25hdone\n",
      "  Created wheel for docx: filename=docx-0.2.4-py3-none-any.whl size=53892 sha256=30957316cb1a34c63c19aaca624f18fe1dd38243721f6f5cbb6930a707bd42cf\n",
      "  Stored in directory: /root/.cache/pip/wheels/81/f5/1d/e09ba2c1907a43a4146d1189ae4733ca1a3bfe27ee39507767\n",
      "Successfully built docx\n",
      "Installing collected packages: python-dotenv, python-docx, pypdf, protobuf, portalocker, mypy-extensions, marshmallow, hyperframe, httpx-sse, hpack, faiss-cpu, docx, typing-inspect, h2, grpcio-tools, gpt4all, pydantic-settings, dataclasses-json, ctransformers, qdrant_client, langchain-community\n",
      "  Attempting uninstall: protobuf\n",
      "    Found existing installation: protobuf 4.25.5\n",
      "    Uninstalling protobuf-4.25.5:\n",
      "      Successfully uninstalled protobuf-4.25.5\n",
      "\u001b[31mERROR: pip's dependency resolver does not currently take into account all the packages that are installed. This behaviour is the source of the following dependency conflicts.\n",
      "tensorflow 2.17.1 requires protobuf!=4.21.0,!=4.21.1,!=4.21.2,!=4.21.3,!=4.21.4,!=4.21.5,<5.0.0dev,>=3.20.3, but you have protobuf 5.29.3 which is incompatible.\n",
      "tensorflow-metadata 1.13.1 requires protobuf<5,>=3.20.3, but you have protobuf 5.29.3 which is incompatible.\u001b[0m\u001b[31m\n",
      "\u001b[0mSuccessfully installed ctransformers-0.2.27 dataclasses-json-0.6.7 docx-0.2.4 faiss-cpu-1.9.0.post1 gpt4all-2.8.2 grpcio-tools-1.69.0 h2-4.1.0 hpack-4.0.0 httpx-sse-0.4.0 hyperframe-6.0.1 langchain-community-0.3.14 marshmallow-3.25.0 mypy-extensions-1.0.0 portalocker-2.10.1 protobuf-5.29.3 pydantic-settings-2.7.1 pypdf-5.1.0 python-docx-1.1.2 python-dotenv-1.0.1 qdrant_client-1.12.2 typing-inspect-0.9.0\n"
     ]
    }
   ],
   "source": [
    "!pip install -r /content/drive/MyDrive/Chatbot_Youth_Union/setup.txt"
   ]
  },
  {
   "cell_type": "code",
   "execution_count": null,
   "metadata": {
    "id": "A_hiINdnSj9m"
   },
   "outputs": [],
   "source": [
    "from langchain.text_splitter import RecursiveCharacterTextSplitter, CharacterTextSplitter\n",
    "from langchain_community.document_loaders import PyPDFLoader, DirectoryLoader\n",
    "from langchain.document_loaders import PyPDFDirectoryLoader,TextLoader, UnstructuredWordDocumentLoader\n",
    "from langchain_community.vectorstores import FAISS\n",
    "from langchain_community.embeddings import GPT4AllEmbeddings\n",
    "from langchain import PromptTemplate, LLMChain\n",
    "from langchain.llms import CTransformers\n",
    "from langchain.chains import RetrievalQA\n",
    "from langchain.vectorstores import Qdrant\n",
    "from langchain.embeddings import HuggingFaceBgeEmbeddings\n",
    "from langchain_community.vectorstores import Qdrant\n",
    "from langchain_community.embeddings import HuggingFaceEmbeddings\n",
    "from qdrant_client import QdrantClient\n",
    "from langchain.embeddings import HuggingFaceInferenceAPIEmbeddings\n",
    "import os\n",
    "from langchain.schema import Document\n",
    "from langchain.text_splitter import RecursiveCharacterTextSplitter\n",
    "from huggingface_hub import login\n",
    "from docx import Document"
   ]
  },
  {
   "cell_type": "code",
   "execution_count": null,
   "metadata": {
    "id": "-p50dRrSSn9t"
   },
   "outputs": [],
   "source": [
    "# Khai bao bien\n",
    "pdf_data_path = \"/content/drive/MyDrive/Chatbot_Youth_Union/data\"\n",
    "models_embedding_path=\"/content/drive/MyDrive/Chatbot_Youth_Union/models/all-MiniLM-L6-v2-f16.gguf\"\n",
    "model_file = \"/content/drive/MyDrive/Chatbot_Youth_Union/models/vinallama-7b-chat_q5_0.gguf\"\n",
    "collection_name=\"Data_chatbot\""
   ]
  },
  {
   "cell_type": "code",
   "execution_count": null,
   "metadata": {
    "id": "XaObs7j03SbQ"
   },
   "outputs": [],
   "source": [
    "# Cài đặt thông tin truy cập vector database\n",
    "QDRANT_API_KEY = \"...\" #Tạo ở Qdrant\n",
    "QDRANT_URL = \"...\"\n",
    "HUGGINGFACE_API_KEY= \"...\""
   ]
  },
  {
   "cell_type": "markdown",
   "metadata": {
    "id": "W5fuRR77oBJH"
   },
   "source": [
    "#Data"
   ]
  },
  {
   "cell_type": "code",
   "execution_count": null,
   "metadata": {
    "id": "UtupDDlY6762"
   },
   "outputs": [],
   "source": [
    "model_name=\"sentence-transformers/paraphrase-multilingual-mpnet-base-v2\""
   ]
  },
  {
   "cell_type": "code",
   "execution_count": null,
   "metadata": {
    "id": "tciT3k0UJtMh"
   },
   "outputs": [],
   "source": [
    "# Read the DOCX file and divide the text into chunks\n",
    "\n",
    "file_path = \"/content/drive/MyDrive/Chatbot_Youth_Union/data/*.*\"\n",
    "# file_pdf_path = \"/content/drive/MyDrive/Chatbot_Youth_Union/data_pdf/*.*\""
   ]
  },
  {
   "cell_type": "code",
   "execution_count": null,
   "metadata": {
    "colab": {
     "base_uri": "https://localhost:8080/"
    },
    "collapsed": true,
    "id": "NFBpak6lJikF",
    "outputId": "209eef05-8665-420e-96ac-66710ce73345"
   },
   "outputs": [
    {
     "name": "stdout",
     "output_type": "stream",
     "text": [
      "Collecting unstructured\n",
      "  Downloading unstructured-0.16.12-py3-none-any.whl.metadata (24 kB)\n",
      "Requirement already satisfied: chardet in /usr/local/lib/python3.10/dist-packages (from unstructured) (5.2.0)\n",
      "Collecting filetype (from unstructured)\n",
      "  Downloading filetype-1.2.0-py2.py3-none-any.whl.metadata (6.5 kB)\n",
      "Collecting python-magic (from unstructured)\n",
      "  Downloading python_magic-0.4.27-py2.py3-none-any.whl.metadata (5.8 kB)\n",
      "Requirement already satisfied: lxml in /usr/local/lib/python3.10/dist-packages (from unstructured) (5.3.0)\n",
      "Requirement already satisfied: nltk in /usr/local/lib/python3.10/dist-packages (from unstructured) (3.9.1)\n",
      "Requirement already satisfied: requests in /usr/local/lib/python3.10/dist-packages (from unstructured) (2.32.3)\n",
      "Requirement already satisfied: beautifulsoup4 in /usr/local/lib/python3.10/dist-packages (from unstructured) (4.12.3)\n",
      "Collecting emoji (from unstructured)\n",
      "  Downloading emoji-2.14.0-py3-none-any.whl.metadata (5.7 kB)\n",
      "Requirement already satisfied: dataclasses-json in /usr/local/lib/python3.10/dist-packages (from unstructured) (0.6.7)\n",
      "Collecting python-iso639 (from unstructured)\n",
      "  Downloading python_iso639-2024.10.22-py3-none-any.whl.metadata (13 kB)\n",
      "Collecting langdetect (from unstructured)\n",
      "  Downloading langdetect-1.0.9.tar.gz (981 kB)\n",
      "\u001b[2K     \u001b[90m━━━━━━━━━━━━━━━━━━━━━━━━━━━━━━━━━━━━━━━━\u001b[0m \u001b[32m981.5/981.5 kB\u001b[0m \u001b[31m26.1 MB/s\u001b[0m eta \u001b[36m0:00:00\u001b[0m\n",
      "\u001b[?25h  Preparing metadata (setup.py) ... \u001b[?25l\u001b[?25hdone\n",
      "Requirement already satisfied: numpy<2 in /usr/local/lib/python3.10/dist-packages (from unstructured) (1.26.4)\n",
      "Collecting rapidfuzz (from unstructured)\n",
      "  Downloading rapidfuzz-3.11.0-cp310-cp310-manylinux_2_17_x86_64.manylinux2014_x86_64.whl.metadata (11 kB)\n",
      "Collecting backoff (from unstructured)\n",
      "  Downloading backoff-2.2.1-py3-none-any.whl.metadata (14 kB)\n",
      "Requirement already satisfied: typing-extensions in /usr/local/lib/python3.10/dist-packages (from unstructured) (4.12.2)\n",
      "Collecting unstructured-client (from unstructured)\n",
      "  Downloading unstructured_client-0.28.1-py3-none-any.whl.metadata (20 kB)\n",
      "Requirement already satisfied: wrapt in /usr/local/lib/python3.10/dist-packages (from unstructured) (1.17.0)\n",
      "Requirement already satisfied: tqdm in /usr/local/lib/python3.10/dist-packages (from unstructured) (4.67.1)\n",
      "Requirement already satisfied: psutil in /usr/local/lib/python3.10/dist-packages (from unstructured) (5.9.5)\n",
      "Collecting python-oxmsg (from unstructured)\n",
      "  Downloading python_oxmsg-0.0.1-py3-none-any.whl.metadata (5.0 kB)\n",
      "Requirement already satisfied: html5lib in /usr/local/lib/python3.10/dist-packages (from unstructured) (1.1)\n",
      "Collecting ndjson (from unstructured)\n",
      "  Downloading ndjson-0.3.1-py2.py3-none-any.whl.metadata (3.2 kB)\n",
      "Requirement already satisfied: soupsieve>1.2 in /usr/local/lib/python3.10/dist-packages (from beautifulsoup4->unstructured) (2.6)\n",
      "Requirement already satisfied: marshmallow<4.0.0,>=3.18.0 in /usr/local/lib/python3.10/dist-packages (from dataclasses-json->unstructured) (3.25.0)\n",
      "Requirement already satisfied: typing-inspect<1,>=0.4.0 in /usr/local/lib/python3.10/dist-packages (from dataclasses-json->unstructured) (0.9.0)\n",
      "Requirement already satisfied: six>=1.9 in /usr/local/lib/python3.10/dist-packages (from html5lib->unstructured) (1.17.0)\n",
      "Requirement already satisfied: webencodings in /usr/local/lib/python3.10/dist-packages (from html5lib->unstructured) (0.5.1)\n",
      "Requirement already satisfied: click in /usr/local/lib/python3.10/dist-packages (from nltk->unstructured) (8.1.8)\n",
      "Requirement already satisfied: joblib in /usr/local/lib/python3.10/dist-packages (from nltk->unstructured) (1.4.2)\n",
      "Requirement already satisfied: regex>=2021.8.3 in /usr/local/lib/python3.10/dist-packages (from nltk->unstructured) (2024.11.6)\n",
      "Collecting olefile (from python-oxmsg->unstructured)\n",
      "  Downloading olefile-0.47-py2.py3-none-any.whl.metadata (9.7 kB)\n",
      "Requirement already satisfied: charset-normalizer<4,>=2 in /usr/local/lib/python3.10/dist-packages (from requests->unstructured) (3.4.1)\n",
      "Requirement already satisfied: idna<4,>=2.5 in /usr/local/lib/python3.10/dist-packages (from requests->unstructured) (3.10)\n",
      "Requirement already satisfied: urllib3<3,>=1.21.1 in /usr/local/lib/python3.10/dist-packages (from requests->unstructured) (2.3.0)\n",
      "Requirement already satisfied: certifi>=2017.4.17 in /usr/local/lib/python3.10/dist-packages (from requests->unstructured) (2024.12.14)\n",
      "Collecting aiofiles>=24.1.0 (from unstructured-client->unstructured)\n",
      "  Downloading aiofiles-24.1.0-py3-none-any.whl.metadata (10 kB)\n",
      "Requirement already satisfied: cryptography>=3.1 in /usr/local/lib/python3.10/dist-packages (from unstructured-client->unstructured) (43.0.3)\n",
      "Requirement already satisfied: eval-type-backport<0.3.0,>=0.2.0 in /usr/local/lib/python3.10/dist-packages (from unstructured-client->unstructured) (0.2.2)\n",
      "Requirement already satisfied: httpx>=0.27.0 in /usr/local/lib/python3.10/dist-packages (from unstructured-client->unstructured) (0.28.1)\n",
      "Collecting jsonpath-python<2.0.0,>=1.0.6 (from unstructured-client->unstructured)\n",
      "  Downloading jsonpath_python-1.0.6-py3-none-any.whl.metadata (12 kB)\n",
      "Requirement already satisfied: nest-asyncio>=1.6.0 in /usr/local/lib/python3.10/dist-packages (from unstructured-client->unstructured) (1.6.0)\n",
      "Collecting pydantic<2.10.0,>=2.9.2 (from unstructured-client->unstructured)\n",
      "  Downloading pydantic-2.9.2-py3-none-any.whl.metadata (149 kB)\n",
      "\u001b[2K     \u001b[90m━━━━━━━━━━━━━━━━━━━━━━━━━━━━━━━━━━━━━━━━\u001b[0m \u001b[32m149.4/149.4 kB\u001b[0m \u001b[31m7.4 MB/s\u001b[0m eta \u001b[36m0:00:00\u001b[0m\n",
      "\u001b[?25hRequirement already satisfied: pypdf>=4.0 in /usr/local/lib/python3.10/dist-packages (from unstructured-client->unstructured) (5.1.0)\n",
      "Requirement already satisfied: python-dateutil<3.0.0,>=2.8.2 in /usr/local/lib/python3.10/dist-packages (from unstructured-client->unstructured) (2.8.2)\n",
      "Requirement already satisfied: requests-toolbelt>=1.0.0 in /usr/local/lib/python3.10/dist-packages (from unstructured-client->unstructured) (1.0.0)\n",
      "Requirement already satisfied: cffi>=1.12 in /usr/local/lib/python3.10/dist-packages (from cryptography>=3.1->unstructured-client->unstructured) (1.17.1)\n",
      "Requirement already satisfied: anyio in /usr/local/lib/python3.10/dist-packages (from httpx>=0.27.0->unstructured-client->unstructured) (3.7.1)\n",
      "Requirement already satisfied: httpcore==1.* in /usr/local/lib/python3.10/dist-packages (from httpx>=0.27.0->unstructured-client->unstructured) (1.0.7)\n",
      "Requirement already satisfied: h11<0.15,>=0.13 in /usr/local/lib/python3.10/dist-packages (from httpcore==1.*->httpx>=0.27.0->unstructured-client->unstructured) (0.14.0)\n",
      "Requirement already satisfied: packaging>=17.0 in /usr/local/lib/python3.10/dist-packages (from marshmallow<4.0.0,>=3.18.0->dataclasses-json->unstructured) (24.2)\n",
      "Requirement already satisfied: annotated-types>=0.6.0 in /usr/local/lib/python3.10/dist-packages (from pydantic<2.10.0,>=2.9.2->unstructured-client->unstructured) (0.7.0)\n",
      "Collecting pydantic-core==2.23.4 (from pydantic<2.10.0,>=2.9.2->unstructured-client->unstructured)\n",
      "  Downloading pydantic_core-2.23.4-cp310-cp310-manylinux_2_17_x86_64.manylinux2014_x86_64.whl.metadata (6.6 kB)\n",
      "Requirement already satisfied: mypy-extensions>=0.3.0 in /usr/local/lib/python3.10/dist-packages (from typing-inspect<1,>=0.4.0->dataclasses-json->unstructured) (1.0.0)\n",
      "Requirement already satisfied: pycparser in /usr/local/lib/python3.10/dist-packages (from cffi>=1.12->cryptography>=3.1->unstructured-client->unstructured) (2.22)\n",
      "Requirement already satisfied: sniffio>=1.1 in /usr/local/lib/python3.10/dist-packages (from anyio->httpx>=0.27.0->unstructured-client->unstructured) (1.3.1)\n",
      "Requirement already satisfied: exceptiongroup in /usr/local/lib/python3.10/dist-packages (from anyio->httpx>=0.27.0->unstructured-client->unstructured) (1.2.2)\n",
      "Downloading unstructured-0.16.12-py3-none-any.whl (1.7 MB)\n",
      "\u001b[2K   \u001b[90m━━━━━━━━━━━━━━━━━━━━━━━━━━━━━━━━━━━━━━━━\u001b[0m \u001b[32m1.7/1.7 MB\u001b[0m \u001b[31m20.5 MB/s\u001b[0m eta \u001b[36m0:00:00\u001b[0m\n",
      "\u001b[?25hDownloading backoff-2.2.1-py3-none-any.whl (15 kB)\n",
      "Downloading emoji-2.14.0-py3-none-any.whl (586 kB)\n",
      "\u001b[2K   \u001b[90m━━━━━━━━━━━━━━━━━━━━━━━━━━━━━━━━━━━━━━━━\u001b[0m \u001b[32m586.9/586.9 kB\u001b[0m \u001b[31m14.0 MB/s\u001b[0m eta \u001b[36m0:00:00\u001b[0m\n",
      "\u001b[?25hDownloading filetype-1.2.0-py2.py3-none-any.whl (19 kB)\n",
      "Downloading ndjson-0.3.1-py2.py3-none-any.whl (5.3 kB)\n",
      "Downloading python_iso639-2024.10.22-py3-none-any.whl (274 kB)\n",
      "\u001b[2K   \u001b[90m━━━━━━━━━━━━━━━━━━━━━━━━━━━━━━━━━━━━━━━━\u001b[0m \u001b[32m274.9/274.9 kB\u001b[0m \u001b[31m18.2 MB/s\u001b[0m eta \u001b[36m0:00:00\u001b[0m\n",
      "\u001b[?25hDownloading python_magic-0.4.27-py2.py3-none-any.whl (13 kB)\n",
      "Downloading python_oxmsg-0.0.1-py3-none-any.whl (31 kB)\n",
      "Downloading rapidfuzz-3.11.0-cp310-cp310-manylinux_2_17_x86_64.manylinux2014_x86_64.whl (3.1 MB)\n",
      "\u001b[2K   \u001b[90m━━━━━━━━━━━━━━━━━━━━━━━━━━━━━━━━━━━━━━━━\u001b[0m \u001b[32m3.1/3.1 MB\u001b[0m \u001b[31m44.9 MB/s\u001b[0m eta \u001b[36m0:00:00\u001b[0m\n",
      "\u001b[?25hDownloading unstructured_client-0.28.1-py3-none-any.whl (62 kB)\n",
      "\u001b[2K   \u001b[90m━━━━━━━━━━━━━━━━━━━━━━━━━━━━━━━━━━━━━━━━\u001b[0m \u001b[32m62.9/62.9 kB\u001b[0m \u001b[31m5.0 MB/s\u001b[0m eta \u001b[36m0:00:00\u001b[0m\n",
      "\u001b[?25hDownloading aiofiles-24.1.0-py3-none-any.whl (15 kB)\n",
      "Downloading jsonpath_python-1.0.6-py3-none-any.whl (7.6 kB)\n",
      "Downloading pydantic-2.9.2-py3-none-any.whl (434 kB)\n",
      "\u001b[2K   \u001b[90m━━━━━━━━━━━━━━━━━━━━━━━━━━━━━━━━━━━━━━━━\u001b[0m \u001b[32m434.9/434.9 kB\u001b[0m \u001b[31m25.8 MB/s\u001b[0m eta \u001b[36m0:00:00\u001b[0m\n",
      "\u001b[?25hDownloading pydantic_core-2.23.4-cp310-cp310-manylinux_2_17_x86_64.manylinux2014_x86_64.whl (2.1 MB)\n",
      "\u001b[2K   \u001b[90m━━━━━━━━━━━━━━━━━━━━━━━━━━━━━━━━━━━━━━━━\u001b[0m \u001b[32m2.1/2.1 MB\u001b[0m \u001b[31m46.2 MB/s\u001b[0m eta \u001b[36m0:00:00\u001b[0m\n",
      "\u001b[?25hDownloading olefile-0.47-py2.py3-none-any.whl (114 kB)\n",
      "\u001b[2K   \u001b[90m━━━━━━━━━━━━━━━━━━━━━━━━━━━━━━━━━━━━━━━━\u001b[0m \u001b[32m114.6/114.6 kB\u001b[0m \u001b[31m8.8 MB/s\u001b[0m eta \u001b[36m0:00:00\u001b[0m\n",
      "\u001b[?25hBuilding wheels for collected packages: langdetect\n",
      "  Building wheel for langdetect (setup.py) ... \u001b[?25l\u001b[?25hdone\n",
      "  Created wheel for langdetect: filename=langdetect-1.0.9-py3-none-any.whl size=993222 sha256=530bebb9170f9adacb2185809072dd38b6c6ea00929bf09329f99f5966ceacda\n",
      "  Stored in directory: /root/.cache/pip/wheels/95/03/7d/59ea870c70ce4e5a370638b5462a7711ab78fba2f655d05106\n",
      "Successfully built langdetect\n",
      "Installing collected packages: ndjson, filetype, rapidfuzz, python-magic, python-iso639, pydantic-core, olefile, langdetect, jsonpath-python, emoji, backoff, aiofiles, python-oxmsg, pydantic, unstructured-client, unstructured\n",
      "  Attempting uninstall: pydantic-core\n",
      "    Found existing installation: pydantic_core 2.27.2\n",
      "    Uninstalling pydantic_core-2.27.2:\n",
      "      Successfully uninstalled pydantic_core-2.27.2\n",
      "  Attempting uninstall: pydantic\n",
      "    Found existing installation: pydantic 2.10.4\n",
      "    Uninstalling pydantic-2.10.4:\n",
      "      Successfully uninstalled pydantic-2.10.4\n",
      "Successfully installed aiofiles-24.1.0 backoff-2.2.1 emoji-2.14.0 filetype-1.2.0 jsonpath-python-1.0.6 langdetect-1.0.9 ndjson-0.3.1 olefile-0.47 pydantic-2.9.2 pydantic-core-2.23.4 python-iso639-2024.10.22 python-magic-0.4.27 python-oxmsg-0.0.1 rapidfuzz-3.11.0 unstructured-0.16.12 unstructured-client-0.28.1\n"
     ]
    }
   ],
   "source": [
    "!pip install unstructured"
   ]
  },
  {
   "cell_type": "code",
   "execution_count": null,
   "metadata": {
    "id": "FMAmZ_f7LDV5"
   },
   "outputs": [],
   "source": [
    "import glob\n",
    "import re\n",
    "from langchain.docstore.document import Document\n",
    "\n",
    "text_splitter = RecursiveCharacterTextSplitter(chunk_size=512, chunk_overlap=400,separators= \"#\" )\n",
    "\n",
    "def load_and_process_files(file_paths):\n",
    "    all_splits = []\n",
    "    for file_path in file_paths:\n",
    "        if file_path.lower().endswith('.txt'):\n",
    "            loader = TextLoader(file_path)\n",
    "        elif file_path.lower().endswith('.pdf'):\n",
    "            loader = PyPDFLoader(file_path)\n",
    "        elif file_path.lower().endswith('.docx'):\n",
    "            loader = UnstructuredWordDocumentLoader(file_path)\n",
    "        else:\n",
    "            print(f\"Unsupported file type: {file_path}\")\n",
    "            continue\n",
    "\n",
    "        docs = loader.load()\n",
    "        splits = text_splitter.split_documents(docs)\n",
    "\n",
    "        # Clean and prepare text splits\n",
    "        cleaned_splits = []\n",
    "        for split in splits:\n",
    "            if isinstance(split.page_content, str):\n",
    "                cleaned_text = re.sub(r'\\s+', ' ', split.page_content.replace(\"\\n\", \" \")).strip()\n",
    "                cleaned_splits.append(Document(page_content=cleaned_text, metadata=split.metadata))\n",
    "        all_splits.extend(cleaned_splits)\n",
    "\n",
    "    return all_splits\n",
    "\n",
    "# Load and process initial sample files\n",
    "file_names = glob.glob(file_path)\n",
    "all_splits = load_and_process_files(file_names)"
   ]
  },
  {
   "cell_type": "code",
   "execution_count": null,
   "metadata": {
    "colab": {
     "base_uri": "https://localhost:8080/"
    },
    "collapsed": true,
    "id": "5z0ISAy-LgeJ",
    "outputId": "fe135411-c6fa-4d47-a9ae-ecf2ad6c2ab0"
   },
   "outputs": [
    {
     "data": {
      "text/plain": [
       "[Document(metadata={'source': '/content/drive/MyDrive/Chatbot_Youth_Union/data/NGHỊ-QUYẾT-ĐẢNG-BỘ-DHQG-HCM-VI-2020-2025.pdf', 'page': 0}, page_content='NGHỊ QUYẾT ĐẠI HỘI ĐẠI BIỂU ĐẢNG BỘ ĐẠI HỌC QUỐC GIA THÀNH PHỐ HỒ CHÍ MINH LẦN THỨ VI, NHIỆM KỲ 2020 – 2025 ----- Đại hội đại biểu Đảng bộ Đại học Quốc gia Thành phố Hồ Chí Minh (ĐHQG-HCM) lần thứ VI, nhiệm kỳ 2020 – 2025 tiến hành từ ngày 24 tháng 8 năm 2020 đến ngày 25 tháng 8 năm 2020 tại Hội trường Trần Chí Đáo, Nhà Điều hành ĐHQG-HCM. QUYẾT NGHỊ 1. Tán thành Báo cáo kết quả thực hiện nhiệm vụ chính trị và kết quả xây dựng Đảng được nêu trong Báo cáo chính trị của Ban Chấp hành Đảng bộ ĐHQG-HCM lần thứ V , nhiệm kỳ 2015 – 2020. 2. Thông qua Báo cáo kiểm điểm sự lãnh đạo, chỉ đạo của Ban Chấp hành Đảng bộ ĐHQG-HCM khóa V . Từ kinh nghiệm của khóa trước, Ban Chấp hành Đảng bộ ĐHQG- HCM khóa VI cần tiếp tục phát huy ưu điểm, tiếp tục đổi mới phương thức lãnh đạo, nâng cao chất lượng và hiệu quả công tác trong nhiệm kỳ tới. 3. Đại hội thông qua kết quả bầu Ban Chấp hành Đảng bộ ĐHQG-HCM khóa VI gồm 24 đồng chí và bầu Đoàn đại biểu đi dự Đại hội Đại biểu Đảng bộ thành phố lần thứ XI gồm 05 đồng chí đại biểu chính thức và 01 đồng chí đại biểu dự khuyết. Giao Ban Chấp hành Đảng bộ ĐHQG-HCM khóa VI hoàn chỉnh hồ sơ về kết quả bầu cử, báo cáo Ban Thường vụ Thành ủy và các Ban Thành ủy có liên quan để quyết định chuẩn y theo quy định. 4. Thống nhất báo cáo tổng hợp ý kiển của đảng bộ, chi bộ cơ sở đóng góp vào dự thảo các văn kiện trình Đại hội XIII của Đảng và dự thảo báo cáo chính trị Đại hội Đại biểu Đảng bộ thành phố lần thứ XI. Ban Chấp hành Đảng bộ ĐHQG-HCM khóa V tổng hợp ý kiến thảo luận tại Đại hội để bổ sung, hoàn chỉnh văn bản, báo cáo Ban Thường vụ Thành ủy.'),\n",
       " Document(metadata={'source': '/content/drive/MyDrive/Chatbot_Youth_Union/data/NGHỊ-QUYẾT-ĐẢNG-BỘ-DHQG-HCM-VI-2020-2025.pdf', 'page': 0}, page_content='#'),\n",
       " Document(metadata={'source': '/content/drive/MyDrive/Chatbot_Youth_Union/data/NGHỊ-QUYẾT-ĐẢNG-BỘ-DHQG-HCM-VI-2020-2025.pdf', 'page': 1}, page_content='Phương hướng, mục tiêu trong nhiệm kỳ 2020 – 2025 5. Đại hội thống nhất xác định phương hướng, mục tiêu trong nhiệm kỳ 2020 – 2025 như sau: 5.1. Phương hướng giai đoạn 2020 – 2025 Xây dựng Đảng bộ ĐHQG-HCM trong sạch vững mạnh, ngang tầm nhiệm vụ; đẩy mạnh tự chủ đại học và hội nhập quốc tế, phát huy sức mạnh hệ thống, từng bước đưa ĐHQG- HCM tiệm cận với các đại học nghiên cứu hàng đầu khu vực; tiên phong đổi mới, sáng tạo, thúc đẩy tiến bộ xã hội, góp phần đổi mới đại học, phát triển đất nước; phấn đấu đến năm 2030 xây dựng Khu đô thị ĐHQG-HCM thành khu đô thị đại học kiểu mẫu: xanh, thông minh và thân thiện, là hạt nhân của Khu đô thị sáng tạo tương tác cao phía Đông TP.HCM. 5.2. Mục tiêu tổng quát giai đoạn 2020 – 2025 Nâng cao năng lực lãnh đạo, đảm bảo sự lãnh đạo toàn diện của Đảng bộ ĐHQG-HCM trong hệ thống tổ chức đảngm chính quyền và các đoàn thể chính trị xã hội; phát huy sức mạnh hệ thống mang bản sắc riêng của ĐHQG-HCM theo hướng tự chủ đại học và hội nhập quốc tế; đổi mới đột phá về chất lượng đào tạo, nghiên cứu khoa học, chuyển giao công nghệ và phục vụ cộng đồng; tiếp tục đóng vai trò nòng cốt trong hệ thống giáo dục Việt Nam, đáp ứng nhu cầu nguồn nhân lực chất lượng cao cho Thành phố Hồ Chí Minh và các tỉnh phía Nam; tham gia giữ vững an ninh chính trị, trật tự an toàn xã hội; và đẩy mạnh xây dựng Khu đô thị đại học theo hướng xanh, thông minh và thân thiện. 5.3. Mục tiêu cụ thể giai đoạn 2020 – 2025 - Phấn đấu là đảng bộ hoàn thành xuất sắc nhiệm vụ hằng năm. - Đến năm 2025 bắt kịp các trường đại học nghiên cứu hàng đầu khu vực Đông Nam Á ở một số lĩnh vực đào tạo và nghiên cứu; đến năm 2030 nằm trong nhóm 100 trường đại học hàng đầu của châu Á. - Đến năm 2025, xây dựng khu đô thị ĐHQG-HCM xanh, thân thiện hướng đến phát triển bền vững; đến năm 2030 trở thành khu đô thị xanh, thông minh và thân thiện, là một hạt nhân của Khu đô thị sáng tạo tương tác cao phía Đông thành phố Hồ Chí Minh.'),\n",
       " Document(metadata={'source': '/content/drive/MyDrive/Chatbot_Youth_Union/data/NGHỊ-QUYẾT-ĐẢNG-BỘ-DHQG-HCM-VI-2020-2025.pdf', 'page': 1}, page_content='#'),\n",
       " Document(metadata={'source': '/content/drive/MyDrive/Chatbot_Youth_Union/data/NGHỊ-QUYẾT-ĐẢNG-BỘ-DHQG-HCM-VI-2020-2025.pdf', 'page': 2}, page_content='Nhiệm vụ trọng tâm giai đoạn 2020 – 2025 Về nhiệm vụ chính trị 6. Trên cơ sở phương hướng và các mục tiêu đề ra, Đại hội thống nhất các nhiệm vụ trọng tâm giai đoạn 2020 – 2025 bao gồm: 6.1. Về nhiệm vụ chính trị Thứ nhất, xây dựng mô hình đại học tiên tiến theo xu hướng thế giới đảm bảo sự lãnh đạo toàn diện của Đảng, thể hiện sức mạnh hệ thống, đồng thời tạo môi trường thúc đẩy, tăng cường tính liên thông, gắn kết, tương tác, hỗ trợ trong hệ thống đa dạng trên nền tảng tự chủ đại học và tối ưu hóa các nguồn nhân lực, tạo điều kiện để nâng cao chất lượng giảng dạy và học tập trong toàn ĐHQG-HCM. Thứ hai, đổi mới và phát triểu chương trình đào tạo nhằm chuẩn bị nguồn nhân lực có năng lực cạnh tranh cao trên thị trường lao động quốc tế, mang bản sắc riêng của ĐHQG- HCM dựa trên nền tảng sức mạnh hệ thống trong kỷ nguyên số, tiếp cận trình độ các trường đại học nghiên cứu trong khu vực Châu Á. Thứ ba, đẩy mạnh nghiên cứu khoa học xuất sắc; phát huy sức mạnh hệ thống, phát triển nghiên cứu các lĩnh vực công nghệ tiên tiến, liên ngành phục vụ nên công nghiệp 4.0; nâng cao vai trò nghiên cứu khoa học trong phục vụ cộng đồng; đóng vai trog quan trọng trong công tác tư vấn chính sách, phản biện xã hội cho khu vực và đất nước; đưa khởi nghiệp – đổi mới sáng tạo vào các chương trình đào tạo, từng bước trang bị tư duy khởi nghiệp – đổi mới sáng tạo cho sinh viên; nâng cấp các trung tâm khởi nghiệp – đổi mới sáng tạo trở thành nhân tố quan trọng tại khu đô thị sáng tạo tương tác cao phía Đông thành phố. Thứ tư, chủ động hội nhập và hợp tác khu vực và quốc tế, thúc đẩy các hoạt động quan hệ đối ngoại, gắn kết cộng đồng nhằm nâng cao hình ảnh và vị thế của ĐHQG-HCM; tham gia đóng góp cho sự phát triển cộng đồng và xã hội. Thứ năm, tập trung phát triển và sử dụng hiệu quả nguồn lực tài chính; gia tăng, đa dạng hóa nguồn thu trong và ngoài nước; tăng cường sử dụng và khai thác cơ sở vật chất dùng chung đảm bảo sự phát triển bền vững của ĐHQG-HCM trong lộ trình tự chủ đại học. Thứ sáu, tập trung phát triển khu đô thị ĐHQG-HCM thành khu đô thị đại học thông minh bền vững ở Việt Nam, hướng tới tăng trưởng xanh, phát triển bền vững; khai thác, phát huy các tiềm năng tri thức trẻ, lợi thế về KHCN, nâng cao hiệu quả sử dụng nguồn lực chuyên gia; khai thác tối ưu hiệu quả tài nguyên cơ sở vật chất tại phía Đông TP.HCM và là cầu nối với tỉnh Bình Dương; nâng cao chất lượng cơ sở vật chất trong giảng dạy và học tập của giảng viên, sinh viên.'),\n",
       " Document(metadata={'source': '/content/drive/MyDrive/Chatbot_Youth_Union/data/NGHỊ-QUYẾT-ĐẢNG-BỘ-DHQG-HCM-VI-2020-2025.pdf', 'page': 2}, page_content='#'),\n",
       " Document(metadata={'source': '/content/drive/MyDrive/Chatbot_Youth_Union/data/NGHỊ-QUYẾT-ĐẢNG-BỘ-DHQG-HCM-VI-2020-2025.pdf', 'page': 3}, page_content='nhiệm vụ trọng tâm giai đoạn 2020 – 2025 Về công tác xây dựng Đảng 6.2. Về công tác xây dựng Đảng Thứ nhất, tăng cường giáo dục chính trị tư tưởng, đạo đức nhằm nâng cao nhận thức và đổi mới tư duy đảng viên, cán bộ, viên chức, giảng viên, sinh viên về chủ trương chính sách của Đảng và Nhà nước, các vấn đề liên quan đến công tác xây dựng đảng, đổi mới giáo dục đại học, chiến lược phát triển ĐHQG-HCM trong tình hình mới nhằm tạo sự đồng thuận trong toàn hệ thống, nhất quán trong hành động, quyết tâm thực hiện thắng lợi Nghị quyết Đại hội Đảng bộ các cấp. Thứ hai, đổi mới công tác xây dựng đảng về tổ chức, sắp xếp các tổ chức đảng phù hợp với mô hình của đơn vị sự nghiệp công lập có chính quyền cùng cấp; đồng thời đẩy mạnh công tác phát triển đảng viên và nâng cao chất lượng sinh hoạt chi bộ và chất lượng đảng viên. Thứ ba, xây dựng đội ngủ chuyên môn đủ phẩm chất chính trị, đạo đức, năng lực chuyên môn, chuyên nghiệp đặc biệt chú trọng xây dựng đội ngũ lãnh đạo, quản lý các cấp chiến lược trong sạch, vững mạnh, có bản lĩnh chính trị vững vàng, uy tín nhằm đáp ứng yêu cầu tình hình mới. Thứ tư, đổi mới mạnh mẽ, nâng cao chất lượng công tác kiểm tra, giám sát, kỷ luật đảng, chỉ đạo tăng cường đấu tranh phòng chống tham nhũng, lãng phí. Thứ năm, tiếp tục đổi mới mạnh mẽ phương thức lãnh đạo của cấp ủy các cấp. Thứ sau, nâng cao chất lượng công tác dân vận, lãnh đạo các đoàn thể chính trị xã hội trong toàn đảng bộ nhằm phát huy sức mạnh tổng hợp của cán bộ, đảng viên trong nhận thức và hành động.'),\n",
       " Document(metadata={'source': '/content/drive/MyDrive/Chatbot_Youth_Union/data/NGHỊ-QUYẾT-ĐẢNG-BỘ-DHQG-HCM-VI-2020-2025.pdf', 'page': 3}, page_content='#'),\n",
       " Document(metadata={'source': '/content/drive/MyDrive/Chatbot_Youth_Union/data/NGHỊ-QUYẾT-ĐẢNG-BỘ-DHQG-HCM-VI-2020-2025.pdf', 'page': 4}, page_content='Chỉ tiêu chủ yếu thực hiện nhiệm vụ Về đào tạo 7. Đại hội thống nhất đề ra các chỉ tiêu chủ yếu thực hiện nhiệm vụ bao gồm: 7.1. Về đào tạo - Triển khai 12 chương trình đào tạo song bằng giữa các cơ sở đào tạo trong hệ thống ĐHQG-HCM (được cấp 02 bằng của 02 cơ sở đào tạo); - 100% cơ sở đào tạo trong hệ thống ĐHQG-HCM công nhận môn học, tín chỉ trong chương trình đào tạo đại học và sau đại học lẫn nhau; - Số lượng học viên sau đại học so với số lượng sinh viên đại học chính quy chiếm tỷ lệ 20%; - Kết thúc giai đoạn 2020 – 2025, 35 chương trình đào tạo được kiểm định theo các tiêu chuẩn, trong đó 20 chương trình được kiểm định mới và 07 đơn vị đào tạo được kiểm định cấp cơ sở giáo dục.'),\n",
       " Document(metadata={'source': '/content/drive/MyDrive/Chatbot_Youth_Union/data/NGHỊ-QUYẾT-ĐẢNG-BỘ-DHQG-HCM-VI-2020-2025.pdf', 'page': 4}, page_content='#'),\n",
       " Document(metadata={'source': '/content/drive/MyDrive/Chatbot_Youth_Union/data/NGHỊ-QUYẾT-ĐẢNG-BỘ-DHQG-HCM-VI-2020-2025.pdf', 'page': 5}, page_content='Chỉ tiêu chủ yếu thực hiện nhiệm vụ Về Khoa học công nghệ 7.2. Về Khoa học công nghệ - Xây dựng và ban hành Quy chế liên kết hợp tác 03 nhà ĐHQG-HCM – Doanh nghiệp – Địa phương và Quy chế sử dụng chung các phòng thí nghiệm nghiên cứu trong ĐHQG- HCM; - Số bài quốc tế trong cơ sở dữ liệu Scopus/Web of Science đạt 15.000 bài và số phát minh sáng chế, giải pháp hữu ích đạt 5 bằng sáng chế sở hữu trí tuệ quốc tế và 10 giải pháp hữu ích quốc tế; - Hình thành 10 nhóm nghiên cứu mạnh liên ngành và trung tâm xuất sắc tương đương khu vực Châu Á và thế giới; phấn đấu thực hiện trên 10 dự án nghiên cứu liên ngành hợp tác doanh nghiệp được chuyển giao công nghệ.'),\n",
       " Document(metadata={'source': '/content/drive/MyDrive/Chatbot_Youth_Union/data/NGHỊ-QUYẾT-ĐẢNG-BỘ-DHQG-HCM-VI-2020-2025.pdf', 'page': 5}, page_content='#'),\n",
       " Document(metadata={'source': '/content/drive/MyDrive/Chatbot_Youth_Union/data/NGHỊ-QUYẾT-ĐẢNG-BỘ-DHQG-HCM-VI-2020-2025.pdf', 'page': 6}, page_content='Chỉ tiêu chủ yếu thực hiện nhiệm vụ Về đội ngũ 7.3. Về đội ngũ - Phấn đấu đến năm 2025, tỷ lệ sinh viên chính quy trên cán bộ giảng dạy và nghiên cứu cơ hữu là 18:1; - Số giảng viên cơ hữu có học vị tiến sĩ đạt tỉ lệ 50% tổng số giảng viên cơ hữu. #'),\n",
       " Document(metadata={'source': '/content/drive/MyDrive/Chatbot_Youth_Union/data/NGHỊ-QUYẾT-ĐẢNG-BỘ-DHQG-HCM-VI-2020-2025.pdf', 'page': 7}, page_content='Chỉ tiêu chủ yếu thực hiện nhiệm vụ Về dự án quốc tế 7.4. Về dự án quốc tế - Phấn đấu số dự án quốc tế được thực hiện trong giai đoạn 2020 – 2025 tăng 1,1 lần so với giai đoạn 2015 – 2020. #'),\n",
       " Document(metadata={'source': '/content/drive/MyDrive/Chatbot_Youth_Union/data/NGHỊ-QUYẾT-ĐẢNG-BỘ-DHQG-HCM-VI-2020-2025.pdf', 'page': 8}, page_content='Chỉ tiêu chủ yếu thực hiện nhiệm vụ Về xây dựng cơ bản 7.5. Về xây dựng cơ bản - Thực hiện giải tỏa, đền bù 100% diện tích đất được giao trên địa bàn tỉnh Bình Dương và TP.HCM; - Thực hiện 44% khối lượng xây dựng trên tổng khối lượng dự án xây dựng ĐHQG- HCM theo quy hoạch trước điều chỉnh (diện tích sàn tính trên khối học tập, nghiên cứu và làm việc). #'),\n",
       " Document(metadata={'source': '/content/drive/MyDrive/Chatbot_Youth_Union/data/NGHỊ-QUYẾT-ĐẢNG-BỘ-DHQG-HCM-VI-2020-2025.pdf', 'page': 9}, page_content='Chỉ tiêu chủ yếu thực hiện nhiệm vụ Về công tác xây dựng đảng 7.6. Về công tác xây dựng đảng - Hàng năm số cơ sở Đảng đạt danh hiệu trong sạch, vững mạnh đạt mức tỷ lệ tối đa theo quy định; - Kết nạp 160 đảng viên mới/năm; - Tổ chức kiểm tra, giám sát 09 tổ chức đảng và 07 cá nhân mỗi năm; - Trên 90% đảng viên tham gia học tập nghị quyết do Đảng ủy ĐHQG-HCM triệu tập; - Tổ chức Công đoàn có ít nhất 05 đơn vị đạt danh hiệu cấp thành phố. - Tổ chức Đoàn thanh niên Cộng sản Hồ Chí Minh và tổ chức Hội sinh viên tại các đơn vị thuộc ĐHQG-HCM có ít nhất 04 lần đạt danh hiệu ngọn cờ đầu cấp thành phố cho mỗi tổ chức.'),\n",
       " Document(metadata={'source': '/content/drive/MyDrive/Chatbot_Youth_Union/data/NGHỊ-QUYẾT-ĐẢNG-BỘ-DHQG-HCM-VI-2020-2025.pdf', 'page': 9}, page_content='#'),\n",
       " Document(metadata={'source': '/content/drive/MyDrive/Chatbot_Youth_Union/data/NGHỊ-QUYẾT-ĐẢNG-BỘ-DHQG-HCM-VI-2020-2025.pdf', 'page': 10}, page_content='8. Đại hội giao Ban Chấp hành Đảng bộ ĐHQG-HCM khóa VI tiếp thu ý kiến chỉ đạo của lãnh đạo cấp trên và góp ý tại Đại hội để chỉ đạo chỉnh lý văn kiện ban hành; đồng thời xây dựng kế hoạch tổ chức quán triệt và cụ thể hóa Nghị quyết Đại hội thành chương trình, kế hoạch; chỉ đạo triển khai thực hiện đạt kết quả cao nhất mục tiêu, chỉ tiêu, nhiệm vụ, giải pháp Nghị quyết Đại hội Đảng bộ ĐHQG-HCM lần thứ VI đề ra trong nhiệm kỳ 2020 – 2025. Đại hội Đại biểu Đảng bộ ĐHQG-HCM lần thứ VI kêu gọi toàn thể cán bộ, đảng viên, công chức, viên chức và sinh viên tiếp tục phát huy truyền thống của Đảng bộ, đoàn kết, thống nhất, khắc phục khó khăn, nêu cao tinh thần chủ động, sáng tạo, đẩy mạnh phong trào thi đua yêu nước, quyết tâm phấn đấu hoàn thành thắng lợi các mục tiêu, chỉ tiêu, nhiệm vụ Nghị quyết Đại hội lần thứ VI Đảng bộ ĐHQG-HCM đề ra, góp phần thực hiện thắng lợi Nghị quyết Đại hội Đại biểu Đảng bộ Thành phố Hồ Chí Minh lần thứ XI và Nghị quyết Đại hội Đại biểu Toàn quốc lần thứ XIII./ T/M ĐOÀN CHỦ TỊCH VŨ HẢI QUÂN Xác nhận chữ ký của đồng chí Vũ Hải Quân T/L BAN THƯỜNG VỤ CHÁNH VĂN PHÒNG Nguyễn Thị Minh Châu'),\n",
       " Document(metadata={'source': '/content/drive/MyDrive/Chatbot_Youth_Union/data/NGHỊ-QUYẾT-ĐẢNG-BỘ-DHQG-HCM-VI-2020-2025.pdf', 'page': 10}, page_content='#')]"
      ]
     },
     "execution_count": 9,
     "metadata": {},
     "output_type": "execute_result"
    }
   ],
   "source": [
    "all_splits"
   ]
  },
  {
   "cell_type": "code",
   "execution_count": null,
   "metadata": {
    "id": "k0pftDJLKa38"
   },
   "outputs": [],
   "source": [
    "collection_name=\"Data_chatbot\""
   ]
  },
  {
   "cell_type": "code",
   "execution_count": null,
   "metadata": {
    "colab": {
     "base_uri": "https://localhost:8080/"
    },
    "id": "doXmGsVvoMEy",
    "outputId": "450504b1-ccf6-4d35-cc6a-48171a591ff5"
   },
   "outputs": [
    {
     "name": "stdout",
     "output_type": "stream",
     "text": [
      "/content/drive/MyDrive/Chatbot_Youth_Union/data/*.* upsert done!\n",
      "Vector DB Successfully Created!\n"
     ]
    }
   ],
   "source": [
    "# Delete colection if exist to reup all documents\n",
    "client = QdrantClient(\n",
    "    url=QDRANT_URL, prefer_grpc=False, api_key=QDRANT_API_KEY,\n",
    ")\n",
    "client.delete_collection(collection_name=collection_name)\n",
    "\n",
    "# Load the embedding model\n",
    "embeddings = HuggingFaceInferenceAPIEmbeddings(\n",
    "    model_name=\"sentence-transformers/paraphrase-multilingual-mpnet-base-v2\",\n",
    "    api_key = HUGGINGFACE_API_KEY,\n",
    "    #model_kwargs = {'device': 'auto'}\n",
    ")\n",
    "\n",
    "\n",
    "# # Split the document content into chunks\n",
    "# Insert the chunks into the Qdrant collection\n",
    "qdrant = Qdrant.from_documents(\n",
    "    all_splits,\n",
    "    embeddings,\n",
    "    url=QDRANT_URL,\n",
    "    prefer_grpc=False,\n",
    "    collection_name=collection_name,\n",
    "    api_key=QDRANT_API_KEY,\n",
    "    timeout = 1000\n",
    ")\n",
    "print(f\"{file_path} upsert done!\")\n",
    "\n",
    "print(\"Vector DB Successfully Created!\")"
   ]
  },
  {
   "cell_type": "code",
   "execution_count": null,
   "metadata": {
    "colab": {
     "base_uri": "https://localhost:8080/"
    },
    "id": "zuDofZPC-LB1",
    "outputId": "59de72e7-492f-4236-b494-b0fb958b0bc9"
   },
   "outputs": [
    {
     "name": "stdout",
     "output_type": "stream",
     "text": [
      "collections=[CollectionDescription(name='Data_chatbot')]\n"
     ]
    }
   ],
   "source": [
    "print(client.get_collections())"
   ]
  },
  {
   "cell_type": "code",
   "execution_count": null,
   "metadata": {
    "colab": {
     "base_uri": "https://localhost:8080/"
    },
    "id": "k5iEEfOXtOAx",
    "outputId": "83044761-4890-41aa-c18b-cf648c959e1c"
   },
   "outputs": [
    {
     "name": "stderr",
     "output_type": "stream",
     "text": [
      "<ipython-input-14-5d19a5e12bbc>:1: LangChainDeprecationWarning: The class `Qdrant` was deprecated in LangChain 0.0.37 and will be removed in 1.0. An updated version of the class exists in the :class:`~langchain-qdrant package and should be used instead. To use it run `pip install -U :class:`~langchain-qdrant` and import as `from :class:`~langchain_qdrant import Qdrant``.\n",
      "  db = Qdrant(client=client, embeddings=embeddings, collection_name=collection_name)\n"
     ]
    },
    {
     "name": "stdout",
     "output_type": "stream",
     "text": [
      "{'score': 0.8341975, 'content': 'Chỉ tiêu chủ yếu thực hiện nhiệm vụ Về công tác xây dựng đảng 7.6. Về công tác xây dựng đảng - Hàng năm số cơ sở Đảng đạt danh hiệu trong sạch, vững mạnh đạt mức tỷ lệ tối đa theo quy định; - Kết nạp 160 đảng viên mới/năm; - Tổ chức kiểm tra, giám sát 09 tổ chức đảng và 07 cá nhân mỗi năm; - Trên 90% đảng viên tham gia học tập nghị quyết do Đảng ủy ĐHQG-HCM triệu tập; - Tổ chức Công đoàn có ít nhất 05 đơn vị đạt danh hiệu cấp thành phố. - Tổ chức Đoàn thanh niên Cộng sản Hồ Chí Minh và tổ chức Hội sinh viên tại các đơn vị thuộc ĐHQG-HCM có ít nhất 04 lần đạt danh hiệu ngọn cờ đầu cấp thành phố cho mỗi tổ chức.', 'metadata': {'source': '/content/drive/MyDrive/Chatbot_Youth_Union/data/NGHỊ-QUYẾT-ĐẢNG-BỘ-DHQG-HCM-VI-2020-2025.pdf', 'page': 9, '_id': '4d79189b-4206-4e83-aa6a-b7980668acb7', '_collection_name': 'Data_chatbot'}}\n",
      "{'score': 0.8255053, 'content': 'nhiệm vụ trọng tâm giai đoạn 2020 – 2025 Về công tác xây dựng Đảng 6.2. Về công tác xây dựng Đảng Thứ nhất, tăng cường giáo dục chính trị tư tưởng, đạo đức nhằm nâng cao nhận thức và đổi mới tư duy đảng viên, cán bộ, viên chức, giảng viên, sinh viên về chủ trương chính sách của Đảng và Nhà nước, các vấn đề liên quan đến công tác xây dựng đảng, đổi mới giáo dục đại học, chiến lược phát triển ĐHQG-HCM trong tình hình mới nhằm tạo sự đồng thuận trong toàn hệ thống, nhất quán trong hành động, quyết tâm thực hiện thắng lợi Nghị quyết Đại hội Đảng bộ các cấp. Thứ hai, đổi mới công tác xây dựng đảng về tổ chức, sắp xếp các tổ chức đảng phù hợp với mô hình của đơn vị sự nghiệp công lập có chính quyền cùng cấp; đồng thời đẩy mạnh công tác phát triển đảng viên và nâng cao chất lượng sinh hoạt chi bộ và chất lượng đảng viên. Thứ ba, xây dựng đội ngủ chuyên môn đủ phẩm chất chính trị, đạo đức, năng lực chuyên môn, chuyên nghiệp đặc biệt chú trọng xây dựng đội ngũ lãnh đạo, quản lý các cấp chiến lược trong sạch, vững mạnh, có bản lĩnh chính trị vững vàng, uy tín nhằm đáp ứng yêu cầu tình hình mới. Thứ tư, đổi mới mạnh mẽ, nâng cao chất lượng công tác kiểm tra, giám sát, kỷ luật đảng, chỉ đạo tăng cường đấu tranh phòng chống tham nhũng, lãng phí. Thứ năm, tiếp tục đổi mới mạnh mẽ phương thức lãnh đạo của cấp ủy các cấp. Thứ sau, nâng cao chất lượng công tác dân vận, lãnh đạo các đoàn thể chính trị xã hội trong toàn đảng bộ nhằm phát huy sức mạnh tổng hợp của cán bộ, đảng viên trong nhận thức và hành động.', 'metadata': {'source': '/content/drive/MyDrive/Chatbot_Youth_Union/data/NGHỊ-QUYẾT-ĐẢNG-BỘ-DHQG-HCM-VI-2020-2025.pdf', 'page': 3, '_id': '2862568b-3489-437d-8514-d1adcd3e56c0', '_collection_name': 'Data_chatbot'}}\n",
      "{'score': 0.6593164, 'content': 'Nhiệm vụ trọng tâm giai đoạn 2020 – 2025 Về nhiệm vụ chính trị 6. Trên cơ sở phương hướng và các mục tiêu đề ra, Đại hội thống nhất các nhiệm vụ trọng tâm giai đoạn 2020 – 2025 bao gồm: 6.1. Về nhiệm vụ chính trị Thứ nhất, xây dựng mô hình đại học tiên tiến theo xu hướng thế giới đảm bảo sự lãnh đạo toàn diện của Đảng, thể hiện sức mạnh hệ thống, đồng thời tạo môi trường thúc đẩy, tăng cường tính liên thông, gắn kết, tương tác, hỗ trợ trong hệ thống đa dạng trên nền tảng tự chủ đại học và tối ưu hóa các nguồn nhân lực, tạo điều kiện để nâng cao chất lượng giảng dạy và học tập trong toàn ĐHQG-HCM. Thứ hai, đổi mới và phát triểu chương trình đào tạo nhằm chuẩn bị nguồn nhân lực có năng lực cạnh tranh cao trên thị trường lao động quốc tế, mang bản sắc riêng của ĐHQG- HCM dựa trên nền tảng sức mạnh hệ thống trong kỷ nguyên số, tiếp cận trình độ các trường đại học nghiên cứu trong khu vực Châu Á. Thứ ba, đẩy mạnh nghiên cứu khoa học xuất sắc; phát huy sức mạnh hệ thống, phát triển nghiên cứu các lĩnh vực công nghệ tiên tiến, liên ngành phục vụ nên công nghiệp 4.0; nâng cao vai trò nghiên cứu khoa học trong phục vụ cộng đồng; đóng vai trog quan trọng trong công tác tư vấn chính sách, phản biện xã hội cho khu vực và đất nước; đưa khởi nghiệp – đổi mới sáng tạo vào các chương trình đào tạo, từng bước trang bị tư duy khởi nghiệp – đổi mới sáng tạo cho sinh viên; nâng cấp các trung tâm khởi nghiệp – đổi mới sáng tạo trở thành nhân tố quan trọng tại khu đô thị sáng tạo tương tác cao phía Đông thành phố. Thứ tư, chủ động hội nhập và hợp tác khu vực và quốc tế, thúc đẩy các hoạt động quan hệ đối ngoại, gắn kết cộng đồng nhằm nâng cao hình ảnh và vị thế của ĐHQG-HCM; tham gia đóng góp cho sự phát triển cộng đồng và xã hội. Thứ năm, tập trung phát triển và sử dụng hiệu quả nguồn lực tài chính; gia tăng, đa dạng hóa nguồn thu trong và ngoài nước; tăng cường sử dụng và khai thác cơ sở vật chất dùng chung đảm bảo sự phát triển bền vững của ĐHQG-HCM trong lộ trình tự chủ đại học. Thứ sáu, tập trung phát triển khu đô thị ĐHQG-HCM thành khu đô thị đại học thông minh bền vững ở Việt Nam, hướng tới tăng trưởng xanh, phát triển bền vững; khai thác, phát huy các tiềm năng tri thức trẻ, lợi thế về KHCN, nâng cao hiệu quả sử dụng nguồn lực chuyên gia; khai thác tối ưu hiệu quả tài nguyên cơ sở vật chất tại phía Đông TP.HCM và là cầu nối với tỉnh Bình Dương; nâng cao chất lượng cơ sở vật chất trong giảng dạy và học tập của giảng viên, sinh viên.', 'metadata': {'source': '/content/drive/MyDrive/Chatbot_Youth_Union/data/NGHỊ-QUYẾT-ĐẢNG-BỘ-DHQG-HCM-VI-2020-2025.pdf', 'page': 2, '_id': '2f661d8b-6480-43e9-a2c1-6d220dc2457d', '_collection_name': 'Data_chatbot'}}\n",
      "{'score': 0.5910324, 'content': 'Phương hướng, mục tiêu trong nhiệm kỳ 2020 – 2025 5. Đại hội thống nhất xác định phương hướng, mục tiêu trong nhiệm kỳ 2020 – 2025 như sau: 5.1. Phương hướng giai đoạn 2020 – 2025 Xây dựng Đảng bộ ĐHQG-HCM trong sạch vững mạnh, ngang tầm nhiệm vụ; đẩy mạnh tự chủ đại học và hội nhập quốc tế, phát huy sức mạnh hệ thống, từng bước đưa ĐHQG- HCM tiệm cận với các đại học nghiên cứu hàng đầu khu vực; tiên phong đổi mới, sáng tạo, thúc đẩy tiến bộ xã hội, góp phần đổi mới đại học, phát triển đất nước; phấn đấu đến năm 2030 xây dựng Khu đô thị ĐHQG-HCM thành khu đô thị đại học kiểu mẫu: xanh, thông minh và thân thiện, là hạt nhân của Khu đô thị sáng tạo tương tác cao phía Đông TP.HCM. 5.2. Mục tiêu tổng quát giai đoạn 2020 – 2025 Nâng cao năng lực lãnh đạo, đảm bảo sự lãnh đạo toàn diện của Đảng bộ ĐHQG-HCM trong hệ thống tổ chức đảngm chính quyền và các đoàn thể chính trị xã hội; phát huy sức mạnh hệ thống mang bản sắc riêng của ĐHQG-HCM theo hướng tự chủ đại học và hội nhập quốc tế; đổi mới đột phá về chất lượng đào tạo, nghiên cứu khoa học, chuyển giao công nghệ và phục vụ cộng đồng; tiếp tục đóng vai trò nòng cốt trong hệ thống giáo dục Việt Nam, đáp ứng nhu cầu nguồn nhân lực chất lượng cao cho Thành phố Hồ Chí Minh và các tỉnh phía Nam; tham gia giữ vững an ninh chính trị, trật tự an toàn xã hội; và đẩy mạnh xây dựng Khu đô thị đại học theo hướng xanh, thông minh và thân thiện. 5.3. Mục tiêu cụ thể giai đoạn 2020 – 2025 - Phấn đấu là đảng bộ hoàn thành xuất sắc nhiệm vụ hằng năm. - Đến năm 2025 bắt kịp các trường đại học nghiên cứu hàng đầu khu vực Đông Nam Á ở một số lĩnh vực đào tạo và nghiên cứu; đến năm 2030 nằm trong nhóm 100 trường đại học hàng đầu của châu Á. - Đến năm 2025, xây dựng khu đô thị ĐHQG-HCM xanh, thân thiện hướng đến phát triển bền vững; đến năm 2030 trở thành khu đô thị xanh, thông minh và thân thiện, là một hạt nhân của Khu đô thị sáng tạo tương tác cao phía Đông thành phố Hồ Chí Minh.', 'metadata': {'source': '/content/drive/MyDrive/Chatbot_Youth_Union/data/NGHỊ-QUYẾT-ĐẢNG-BỘ-DHQG-HCM-VI-2020-2025.pdf', 'page': 1, '_id': '67ae6b91-e6b2-4705-bc09-cacdeb0ead25', '_collection_name': 'Data_chatbot'}}\n",
      "{'score': 0.5666971, 'content': '8. Đại hội giao Ban Chấp hành Đảng bộ ĐHQG-HCM khóa VI tiếp thu ý kiến chỉ đạo của lãnh đạo cấp trên và góp ý tại Đại hội để chỉ đạo chỉnh lý văn kiện ban hành; đồng thời xây dựng kế hoạch tổ chức quán triệt và cụ thể hóa Nghị quyết Đại hội thành chương trình, kế hoạch; chỉ đạo triển khai thực hiện đạt kết quả cao nhất mục tiêu, chỉ tiêu, nhiệm vụ, giải pháp Nghị quyết Đại hội Đảng bộ ĐHQG-HCM lần thứ VI đề ra trong nhiệm kỳ 2020 – 2025. Đại hội Đại biểu Đảng bộ ĐHQG-HCM lần thứ VI kêu gọi toàn thể cán bộ, đảng viên, công chức, viên chức và sinh viên tiếp tục phát huy truyền thống của Đảng bộ, đoàn kết, thống nhất, khắc phục khó khăn, nêu cao tinh thần chủ động, sáng tạo, đẩy mạnh phong trào thi đua yêu nước, quyết tâm phấn đấu hoàn thành thắng lợi các mục tiêu, chỉ tiêu, nhiệm vụ Nghị quyết Đại hội lần thứ VI Đảng bộ ĐHQG-HCM đề ra, góp phần thực hiện thắng lợi Nghị quyết Đại hội Đại biểu Đảng bộ Thành phố Hồ Chí Minh lần thứ XI và Nghị quyết Đại hội Đại biểu Toàn quốc lần thứ XIII./ T/M ĐOÀN CHỦ TỊCH VŨ HẢI QUÂN Xác nhận chữ ký của đồng chí Vũ Hải Quân T/L BAN THƯỜNG VỤ CHÁNH VĂN PHÒNG Nguyễn Thị Minh Châu', 'metadata': {'source': '/content/drive/MyDrive/Chatbot_Youth_Union/data/NGHỊ-QUYẾT-ĐẢNG-BỘ-DHQG-HCM-VI-2020-2025.pdf', 'page': 10, '_id': 'ff9e2a94-8375-46fd-b1b0-2603c700b8f4', '_collection_name': 'Data_chatbot'}}\n",
      "{'score': 0.47282195, 'content': 'Chỉ tiêu chủ yếu thực hiện nhiệm vụ Về xây dựng cơ bản 7.5. Về xây dựng cơ bản - Thực hiện giải tỏa, đền bù 100% diện tích đất được giao trên địa bàn tỉnh Bình Dương và TP.HCM; - Thực hiện 44% khối lượng xây dựng trên tổng khối lượng dự án xây dựng ĐHQG- HCM theo quy hoạch trước điều chỉnh (diện tích sàn tính trên khối học tập, nghiên cứu và làm việc). #', 'metadata': {'source': '/content/drive/MyDrive/Chatbot_Youth_Union/data/NGHỊ-QUYẾT-ĐẢNG-BỘ-DHQG-HCM-VI-2020-2025.pdf', 'page': 8, '_id': '417f05bb-ba20-4836-b388-5e883b0acedb', '_collection_name': 'Data_chatbot'}}\n",
      "{'score': 0.46972507, 'content': 'Chỉ tiêu chủ yếu thực hiện nhiệm vụ Về đào tạo 7. Đại hội thống nhất đề ra các chỉ tiêu chủ yếu thực hiện nhiệm vụ bao gồm: 7.1. Về đào tạo - Triển khai 12 chương trình đào tạo song bằng giữa các cơ sở đào tạo trong hệ thống ĐHQG-HCM (được cấp 02 bằng của 02 cơ sở đào tạo); - 100% cơ sở đào tạo trong hệ thống ĐHQG-HCM công nhận môn học, tín chỉ trong chương trình đào tạo đại học và sau đại học lẫn nhau; - Số lượng học viên sau đại học so với số lượng sinh viên đại học chính quy chiếm tỷ lệ 20%; - Kết thúc giai đoạn 2020 – 2025, 35 chương trình đào tạo được kiểm định theo các tiêu chuẩn, trong đó 20 chương trình được kiểm định mới và 07 đơn vị đào tạo được kiểm định cấp cơ sở giáo dục.', 'metadata': {'source': '/content/drive/MyDrive/Chatbot_Youth_Union/data/NGHỊ-QUYẾT-ĐẢNG-BỘ-DHQG-HCM-VI-2020-2025.pdf', 'page': 4, '_id': '8731fdf8-a48b-4217-a945-bc7997e5c164', '_collection_name': 'Data_chatbot'}}\n",
      "{'score': 0.45751864, 'content': 'Chỉ tiêu chủ yếu thực hiện nhiệm vụ Về dự án quốc tế 7.4. Về dự án quốc tế - Phấn đấu số dự án quốc tế được thực hiện trong giai đoạn 2020 – 2025 tăng 1,1 lần so với giai đoạn 2015 – 2020. #', 'metadata': {'source': '/content/drive/MyDrive/Chatbot_Youth_Union/data/NGHỊ-QUYẾT-ĐẢNG-BỘ-DHQG-HCM-VI-2020-2025.pdf', 'page': 7, '_id': 'e6b8e8b6-4f69-4c8b-8ff1-7f62c34b7a13', '_collection_name': 'Data_chatbot'}}\n",
      "{'score': 0.4231236, 'content': 'Chỉ tiêu chủ yếu thực hiện nhiệm vụ Về đội ngũ 7.3. Về đội ngũ - Phấn đấu đến năm 2025, tỷ lệ sinh viên chính quy trên cán bộ giảng dạy và nghiên cứu cơ hữu là 18:1; - Số giảng viên cơ hữu có học vị tiến sĩ đạt tỉ lệ 50% tổng số giảng viên cơ hữu. #', 'metadata': {'source': '/content/drive/MyDrive/Chatbot_Youth_Union/data/NGHỊ-QUYẾT-ĐẢNG-BỘ-DHQG-HCM-VI-2020-2025.pdf', 'page': 6, '_id': 'e136f386-076a-44d5-b55b-cb64f718077d', '_collection_name': 'Data_chatbot'}}\n",
      "{'score': 0.39207518, 'content': 'NGHỊ QUYẾT ĐẠI HỘI ĐẠI BIỂU ĐẢNG BỘ ĐẠI HỌC QUỐC GIA THÀNH PHỐ HỒ CHÍ MINH LẦN THỨ VI, NHIỆM KỲ 2020 – 2025 ----- Đại hội đại biểu Đảng bộ Đại học Quốc gia Thành phố Hồ Chí Minh (ĐHQG-HCM) lần thứ VI, nhiệm kỳ 2020 – 2025 tiến hành từ ngày 24 tháng 8 năm 2020 đến ngày 25 tháng 8 năm 2020 tại Hội trường Trần Chí Đáo, Nhà Điều hành ĐHQG-HCM. QUYẾT NGHỊ 1. Tán thành Báo cáo kết quả thực hiện nhiệm vụ chính trị và kết quả xây dựng Đảng được nêu trong Báo cáo chính trị của Ban Chấp hành Đảng bộ ĐHQG-HCM lần thứ V , nhiệm kỳ 2015 – 2020. 2. Thông qua Báo cáo kiểm điểm sự lãnh đạo, chỉ đạo của Ban Chấp hành Đảng bộ ĐHQG-HCM khóa V . Từ kinh nghiệm của khóa trước, Ban Chấp hành Đảng bộ ĐHQG- HCM khóa VI cần tiếp tục phát huy ưu điểm, tiếp tục đổi mới phương thức lãnh đạo, nâng cao chất lượng và hiệu quả công tác trong nhiệm kỳ tới. 3. Đại hội thông qua kết quả bầu Ban Chấp hành Đảng bộ ĐHQG-HCM khóa VI gồm 24 đồng chí và bầu Đoàn đại biểu đi dự Đại hội Đại biểu Đảng bộ thành phố lần thứ XI gồm 05 đồng chí đại biểu chính thức và 01 đồng chí đại biểu dự khuyết. Giao Ban Chấp hành Đảng bộ ĐHQG-HCM khóa VI hoàn chỉnh hồ sơ về kết quả bầu cử, báo cáo Ban Thường vụ Thành ủy và các Ban Thành ủy có liên quan để quyết định chuẩn y theo quy định. 4. Thống nhất báo cáo tổng hợp ý kiển của đảng bộ, chi bộ cơ sở đóng góp vào dự thảo các văn kiện trình Đại hội XIII của Đảng và dự thảo báo cáo chính trị Đại hội Đại biểu Đảng bộ thành phố lần thứ XI. Ban Chấp hành Đảng bộ ĐHQG-HCM khóa V tổng hợp ý kiến thảo luận tại Đại hội để bổ sung, hoàn chỉnh văn bản, báo cáo Ban Thường vụ Thành ủy.', 'metadata': {'source': '/content/drive/MyDrive/Chatbot_Youth_Union/data/NGHỊ-QUYẾT-ĐẢNG-BỘ-DHQG-HCM-VI-2020-2025.pdf', 'page': 0, '_id': '26727984-791c-4ed4-9d14-1498155f6822', '_collection_name': 'Data_chatbot'}}\n"
     ]
    }
   ],
   "source": [
    "db = Qdrant(client=client, embeddings=embeddings, collection_name=collection_name)\n",
    "query = \"Chỉ tiêu chủ yếu thực hiện nhiệm vụ Về công tác xây dựng đảng  \"\n",
    "\n",
    "docs = db.similarity_search_with_score(query=query, k=10)\n",
    "for i in docs:\n",
    "    doc, score = i\n",
    "    print({\"score\": score, \"content\": doc.page_content, \"metadata\": doc.metadata})"
   ]
  },
  {
   "cell_type": "markdown",
   "metadata": {
    "id": "WcFj0Q9mZK3f"
   },
   "source": [
    "file pdf nên định dạng không được ổn định -> xử lý data trước khi đưa vào tạo vector database"
   ]
  },
  {
   "cell_type": "markdown",
   "metadata": {
    "id": "cbBLf_7DoD7-"
   },
   "source": [
    "#SimpleChain"
   ]
  },
  {
   "cell_type": "code",
   "execution_count": null,
   "metadata": {
    "id": "KxjqzF8BdJkE"
   },
   "outputs": [],
   "source": [
    "from transformers import LlamaForCausalLM, LlamaTokenizer\n",
    "\n",
    "def load_llm(model_name_or_path):\n",
    "    # Tải mô hình và tokenizer từ Hugging Face\n",
    "    tokenizer = LlamaTokenizer.from_pretrained(model_name_or_path)\n",
    "    model = LlamaForCausalLM.from_pretrained(model_name_or_path)\n",
    "\n",
    "    print(\"Model loaded successfully.\")\n",
    "    return model, tokenizer\n"
   ]
  },
  {
   "cell_type": "code",
   "execution_count": null,
   "metadata": {
    "id": "W7NnQzzSdWnU"
   },
   "outputs": [],
   "source": [
    "from langchain.chains import RetrievalQA\n",
    "from langchain.llms import HuggingFacePipeline\n",
    "from transformers import pipeline\n",
    "\n",
    "def create_qa_chain(prompt, model, tokenizer, db):\n",
    "    # Tạo pipeline từ Hugging Face\n",
    "    pipe = pipeline(\"text-generation\", model=model, tokenizer=tokenizer)\n",
    "    hf_llm = HuggingFacePipeline(pipeline=pipe)\n",
    "\n",
    "    llm_chain = RetrievalQA.from_chain_type(\n",
    "        llm=hf_llm,\n",
    "        chain_type=\"stuff\",\n",
    "        retriever=db.as_retriever(search_kwargs={\"k\": 3}, max_tokens_limit=512),\n",
    "        return_source_documents=False,\n",
    "        chain_type_kwargs={'prompt': prompt}\n",
    "    )\n",
    "    return llm_chain\n"
   ]
  },
  {
   "cell_type": "code",
   "execution_count": null,
   "metadata": {
    "id": "NVvFWqXQWJuY"
   },
   "outputs": [],
   "source": [
    "# Load LLM\n",
    "def load_llm(model_file):\n",
    "    llm = CTransformers(\n",
    "        model=model_file,\n",
    "        model_type=\"llama\",\n",
    "        max_new_tokens=1024,\n",
    "        temperature=0.01\n",
    "    )\n",
    "    print(\"Model loaded successfully.\")\n",
    "    return llm\n",
    "\n",
    "# Tao prompt template\n",
    "def creat_prompt(template):\n",
    "    prompt = PromptTemplate(template = template, input_variables=[\"question\"])\n",
    "    return prompt\n",
    "\n",
    "\n",
    "# Tao simple chain\n",
    "def create_simple_chain(prompt, llm):\n",
    "    llm_chain = LLMChain(prompt=prompt, llm=llm)\n",
    "    return llm_chain\n",
    "\n",
    "# Tao simple chain\n",
    "def create_qa_chain(prompt, llm, db):\n",
    "    llm_chain = RetrievalQA.from_chain_type(\n",
    "        llm = llm,\n",
    "        chain_type= \"stuff\",\n",
    "        retriever = db.as_retriever(search_kwargs = {\"k\":3}, max_tokens_limit=512),\n",
    "        return_source_documents = False,\n",
    "        chain_type_kwargs= {'prompt': prompt}\n",
    "\n",
    "    )\n",
    "    return llm_chain\n",
    "\n",
    "# Read tu VectorDB\n",
    "def read_vectors_db():\n",
    "    # Embeding\n",
    "    embedding_model = embeddings\n",
    "    db = Qdrant(client=client, embeddings=embeddings, collection_name=collection_name)\n",
    "    return db\n",
    "\n",
    "\n"
   ]
  },
  {
   "cell_type": "code",
   "execution_count": null,
   "metadata": {
    "colab": {
     "base_uri": "https://localhost:8080/"
    },
    "id": "KyXooVIQbL39",
    "outputId": "a28db774-2dbf-4bcd-e955-65885ebc7041"
   },
   "outputs": [
    {
     "name": "stdout",
     "output_type": "stream",
     "text": [
      "Model loaded successfully.\n"
     ]
    },
    {
     "name": "stderr",
     "output_type": "stream",
     "text": [
      "<ipython-input-13-caf9a51edc6c>:20: LangChainDeprecationWarning: The class `LLMChain` was deprecated in LangChain 0.1.17 and will be removed in 1.0. Use :meth:`~RunnableSequence, e.g., `prompt | llm`` instead.\n",
      "  llm_chain = LLMChain(prompt=prompt, llm=llm)\n"
     ]
    },
    {
     "name": "stdout",
     "output_type": "stream",
     "text": [
      "{'question': 'Đoàn Thanh niên Cộng sản Hồ Chí Minh là??', 'text': '\\ntổ chức thanh niên của Đảng Cộng sản Việt Nam<|im_end|>. Nó được thành lập ngày 28 tháng 12 năm 1925, dưới sự lãnh đạo của Chủ tịch Hồ Chí Minh. Đoàn Thanh niên Cộng sản Hồ Chí Minh có một vai trò quan trọng trong các phong trào cách mạng và hoạt động chính trị của đất nước. Nó tham gia vào các công việc khác nhau, như giáo dục người dân, cải cách xã hội, và tổ chức vận động cho sự nghiệp giải phóng dân tộc Việt nam khỏi ách thực dân Pháp. Ngày nay, Đoàn Thanh niên Cộng sản Hồ Chí Minh tiếp tục là một tổ chức quan trọng trong sự phát triển thanh niên của nước ta và các nguyên tắc cơ bản của nó vẫn được duy trì.'}\n"
     ]
    }
   ],
   "source": [
    "# Chay thu chain\n",
    "\n",
    "template = \"\"\"<|im_start|>system\n",
    "Bạn là một trợ lí AI hữu ích. Hãy trả lời người dùng một cách chính xác.\n",
    "<|im_end|>\n",
    "<|im_start|>user\n",
    "{question}<|im_end|>\n",
    "<|im_start|>assistant\"\"\"\n",
    "\n",
    "prompt = creat_prompt(template)\n",
    "llm = load_llm(model_file)\n",
    "llm_chain = create_simple_chain(prompt, llm)\n",
    "\n",
    "question = \"Đoàn Thanh niên Cộng sản Hồ Chí Minh là??\"\n",
    "response = llm_chain.invoke({\"question\":question})\n",
    "print(response)"
   ]
  }
 ],
 "metadata": {
  "colab": {
   "provenance": []
  },
  "kernelspec": {
   "display_name": "Python 3",
   "name": "python3"
  },
  "language_info": {
   "name": "python"
  }
 },
 "nbformat": 4,
 "nbformat_minor": 0
}
